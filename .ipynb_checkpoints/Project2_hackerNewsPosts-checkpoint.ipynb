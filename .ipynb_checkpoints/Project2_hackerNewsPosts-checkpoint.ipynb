{
 "cells": [
  {
   "cell_type": "markdown",
   "metadata": {},
   "source": [
    "## Hacker News Posts project\n",
    "- the dataset emcompasses post from Reddit, a website where users submit and comment posts\n",
    "- the project focus on taking a closer look at\n",
    "    - the post where the user ask a question to the website Hacker News: **Ask HN**. \n",
    "    - the the posts where the user show a project to the website Hacker News: **Show HN**\n",
    "\n",
    "**The questions:**\n",
    "- *out of the 2, what type gets more comments on average?* \n",
    "- *does the time of the post influences the number of comments in average?*\n",
    "\n",
    "\n",
    "\n",
    "#### The analyse was done first with only **Python** and then using Pandas"
   ]
  },
  {
   "cell_type": "markdown",
   "metadata": {},
   "source": [
    "### import database\n",
    "The database is imported as a list"
   ]
  },
  {
   "cell_type": "code",
   "execution_count": 48,
   "metadata": {},
   "outputs": [],
   "source": [
    "from csv import reader\n",
    "import matplotlib.pyplot as plt\n",
    "import numpy as np"
   ]
  },
  {
   "cell_type": "code",
   "execution_count": 4,
   "metadata": {},
   "outputs": [],
   "source": [
    "file=open('HN_posts_year_to_Sep_26_2016.csv', encoding='utf-8')\n",
    "read_file=reader(file)\n",
    "hn=list(read_file)"
   ]
  },
  {
   "cell_type": "code",
   "execution_count": 5,
   "metadata": {},
   "outputs": [
    {
     "data": {
      "text/plain": [
       "['id', 'title', 'url', 'num_points', 'num_comments', 'author', 'created_at']"
      ]
     },
     "execution_count": 5,
     "metadata": {},
     "output_type": "execute_result"
    }
   ],
   "source": [
    "#headers\n",
    "hn[0]"
   ]
  },
  {
   "cell_type": "code",
   "execution_count": 6,
   "metadata": {},
   "outputs": [],
   "source": [
    "headers=hn[0] #extract headers\n",
    "hn=hn[1:] #remove headers from dataset"
   ]
  },
  {
   "cell_type": "code",
   "execution_count": 7,
   "metadata": {},
   "outputs": [
    {
     "name": "stdout",
     "output_type": "stream",
     "text": [
      "['12579008', 'You have two days to comment if you want stem cells to be classified as your own', 'http://www.regulations.gov/document?D=FDA-2015-D-3719-0018', '1', '0', 'altstar', '9/26/2016 3:26']\n"
     ]
    }
   ],
   "source": [
    "#observe the first data entry \n",
    "print(hn[0])"
   ]
  },
  {
   "cell_type": "code",
   "execution_count": 8,
   "metadata": {},
   "outputs": [
    {
     "data": {
      "text/plain": [
       "293119"
      ]
     },
     "execution_count": 8,
     "metadata": {},
     "output_type": "execute_result"
    }
   ],
   "source": [
    "len(hn)"
   ]
  },
  {
   "cell_type": "markdown",
   "metadata": {},
   "source": [
    "##### dectection of the post starting  with either **Ask HN** or **Show HN**  "
   ]
  },
  {
   "cell_type": "code",
   "execution_count": 10,
   "metadata": {
    "scrolled": true
   },
   "outputs": [
    {
     "name": "stdout",
     "output_type": "stream",
     "text": [
      "there are 293119 posts in total\n",
      "there are 9269 ask posts\n",
      "there are 10218 show posts\n",
      "other posts 273632\n",
      "293119\n"
     ]
    }
   ],
   "source": [
    "ask_posts = []\n",
    "show_posts = []\n",
    "other_posts = []\n",
    "\n",
    "for row in hn:\n",
    "    title=row[1]\n",
    "    title=title.lower()\n",
    "    if title.startswith('ask'):\n",
    "        ask_posts.append(row)\n",
    "    elif title.startswith('show'):\n",
    "        show_posts.append(row)\n",
    "    else:\n",
    "        other_posts.append(row)\n",
    "print(f\"there are {len(hn)} posts in total\")\n",
    "print(f\"there are {len(ask_posts)} ask posts\")\n",
    "print(f\"there are {len(show_posts)} show posts\")\n",
    "print(f\"other posts {len(other_posts)}\")\n",
    "print(len(ask_posts+show_posts+other_posts))"
   ]
  },
  {
   "cell_type": "code",
   "execution_count": 43,
   "metadata": {},
   "outputs": [
    {
     "data": {
      "text/plain": [
       "Text(0, 0.5, '% of the post')"
      ]
     },
     "execution_count": 43,
     "metadata": {},
     "output_type": "execute_result"
    },
    {
     "data": {
      "image/png": "[encoded data removed]",
      "text/plain": [
       "<Figure size 432x288 with 1 Axes>"
      ]
     },
     "metadata": {
      "needs_background": "light"
     },
     "output_type": "display_data"
    }
   ],
   "source": [
    "bar_chart=[]\n",
    "for element in [ask_posts, show_posts,other_posts]:\n",
    "    bar_chart.append(len(element)/len(hn)*100)\n",
    "    \n",
    "label=['ask_posts', 'show_posts','other_posts']\n",
    "#plot number of post \n",
    "plt.figure()\n",
    "plt.bar(label,bar_chart)\n",
    "plt.title('% type of posts in dataset',size=14)\n",
    "plt.xlabel('Post type',size=12)\n",
    "plt.ylabel('% of the post',size=12) \n",
    "\n"
   ]
  },
  {
   "cell_type": "markdown",
   "metadata": {},
   "source": [
    "#### remarks:\n",
    "We have well split the show/ask posts the rest of the dataset but they represent only a fraction of it."
   ]
  },
  {
   "cell_type": "markdown",
   "metadata": {},
   "source": [
    "#####  Average comment per show  posts"
   ]
  },
  {
   "cell_type": "code",
   "execution_count": 30,
   "metadata": {},
   "outputs": [
    {
     "data": {
      "text/plain": [
       "['id', 'title', 'url', 'num_points', 'num_comments', 'author', 'created_at']"
      ]
     },
     "execution_count": 30,
     "metadata": {},
     "output_type": "execute_result"
    }
   ],
   "source": [
    "headers"
   ]
  },
  {
   "cell_type": "code",
   "execution_count": 31,
   "metadata": {
    "scrolled": true
   },
   "outputs": [
    {
     "data": {
      "text/plain": [
       "[['12578335',\n",
       "  'Show HN: Finding puns computationally',\n",
       "  'http://puns.samueltaylor.org/',\n",
       "  '2',\n",
       "  '0',\n",
       "  'saamm',\n",
       "  '9/26/2016 0:36'],\n",
       " ['12578182',\n",
       "  'Show HN: A simple library for complicated animations',\n",
       "  'https://christinecha.github.io/choreographer-js/',\n",
       "  '1',\n",
       "  '0',\n",
       "  'christinecha',\n",
       "  '9/26/2016 0:01']]"
      ]
     },
     "execution_count": 31,
     "metadata": {},
     "output_type": "execute_result"
    }
   ],
   "source": [
    "show_posts[0:2]"
   ]
  },
  {
   "cell_type": "markdown",
   "metadata": {},
   "source": [
    "- time to check what type of post get the max average number of posts"
   ]
  },
  {
   "cell_type": "code",
   "execution_count": 1,
   "metadata": {},
   "outputs": [],
   "source": [
    "#loop into each respective dataset and summing of each comments\n",
    "def average_comments(my_list):\n",
    "    '''\n",
    "    Return the average numbers of comments\n",
    "    '''''\n",
    "    total_comments=0\n",
    "    \n",
    "    for row in my_list:\n",
    "        num_comments=row[4]\n",
    "        num_comments=int(num_comments)\n",
    "        total_comments += num_comments\n",
    "    \n",
    "    avg_comments=total_comments/len(my_list)\n",
    "    \n",
    "    return avg_comments"
   ]
  },
  {
   "cell_type": "code",
   "execution_count": 22,
   "metadata": {},
   "outputs": [
    {
     "name": "stdout",
     "output_type": "stream",
     "text": [
      "10.328622289351602\n"
     ]
    }
   ],
   "source": [
    "#average numbers post for ask posts\n",
    "avg_ask_comments = average_comments(ask_posts)\n",
    "print(avg_ask_comments)"
   ]
  },
  {
   "cell_type": "code",
   "execution_count": 25,
   "metadata": {},
   "outputs": [
    {
     "name": "stdout",
     "output_type": "stream",
     "text": [
      "4.8623996868271675\n"
     ]
    }
   ],
   "source": [
    "#average numbers pot for show posts\n",
    "avg_show_comments = average_comments(show_posts)\n",
    "print(avg_show_comments)"
   ]
  },
  {
   "cell_type": "markdown",
   "metadata": {},
   "source": [
    "=> **Ask HN** posts have 5 comments more than **Show HN* posts**  (10.3 vs 4.86)"
   ]
  },
  {
   "cell_type": "markdown",
   "metadata": {},
   "source": [
    "##### Influence of the time on the number of comments\n",
    "Analysis with the Ask posts\n",
    "does the time of publication matter for the numbers of comments and the number of posts??"
   ]
  },
  {
   "cell_type": "markdown",
   "metadata": {},
   "source": [
    "#### Fixing  format of the date entry\n",
    "\n",
    "The date fortmat is month/day/year and time is 24hours:"
   ]
  },
  {
   "cell_type": "code",
   "execution_count": 35,
   "metadata": {},
   "outputs": [
    {
     "name": "stdout",
     "output_type": "stream",
     "text": [
      "['id', 'title', 'url', 'num_points', 'num_comments', 'author', 'created_at']\n"
     ]
    },
    {
     "data": {
      "text/plain": [
       "'9/6/2015 6:02'"
      ]
     },
     "execution_count": 35,
     "metadata": {},
     "output_type": "execute_result"
    }
   ],
   "source": [
    "print(headers)\n",
    "#the time is the last element of the lists\n",
    "ask_posts[-1][-1]"
   ]
  },
  {
   "cell_type": "code",
   "execution_count": 29,
   "metadata": {},
   "outputs": [],
   "source": [
    "import datetime as dt\n",
    "\n",
    "# list containing [time of publication , n_comments]  for each posts in ask questions\n",
    "result_lists=[] \n",
    "\n",
    "for row in ask_posts:\n",
    "    time=row[6]\n",
    "    n_comments=int(row[4])\n",
    "    post=[time, n_comments]\n",
    "    result_lists.append(post)"
   ]
  },
  {
   "cell_type": "code",
   "execution_count": 30,
   "metadata": {},
   "outputs": [
    {
     "name": "stdout",
     "output_type": "stream",
     "text": [
      "['9/26/2016 2:53', 7]\n",
      "<class 'str'>\n"
     ]
    }
   ],
   "source": [
    "#type date format\n",
    "print(result_lists[0])\n",
    "print(type(result_lists[0][0]))"
   ]
  },
  {
   "cell_type": "markdown",
   "metadata": {},
   "source": [
    "- for the moment, the date is still consider as a string, the datetime.strptime() methods will be employed to format the time and isolates the hour info"
   ]
  },
  {
   "cell_type": "code",
   "execution_count": 34,
   "metadata": {},
   "outputs": [],
   "source": [
    "posts_by_hours={} #number of posts per hour\n",
    "comments_by_hours={} #number of comments per hour\n",
    "\n",
    "for row in result_lists:\n",
    "    time_str=row[0] #isolation of the time info\n",
    "    time_dt=dt.datetime.strptime(time_str,'%m/%d/%Y %H:%M') #formating\n",
    "    hour=time_dt.strftime(\"%H\") #isloation time info\n",
    "\n",
    "    #number of comments\n",
    "    n_comments=row[1]\n",
    "\n",
    "    #number of post per hour\n",
    "    if hour in posts_by_hours:\n",
    "        posts_by_hours[hour] +=1\n",
    "    else:\n",
    "        posts_by_hours[hour]=1\n",
    "\n",
    "    #number of comments per hour\n",
    "    if hour in comments_by_hours:\n",
    "        comments_by_hours[hour] += n_comments\n",
    "    else:\n",
    "        comments_by_hours[hour] = n_comments \n"
   ]
  },
  {
   "cell_type": "code",
   "execution_count": 101,
   "metadata": {
    "scrolled": true
   },
   "outputs": [
    {
     "name": "stdout",
     "output_type": "stream",
     "text": [
      "{'02': 271, '01': 286, '22': 384, '21': 522, '19': 563, '17': 598, '15': 651, '14': 524, '13': 449, '11': 317, '10': 287, '09': 224, '07': 228, '03': 275, '23': 348, '20': 516, '16': 587, '08': 260, '00': 303, '18': 630, '12': 351, '04': 247, '06': 238, '05': 210}\n"
     ]
    }
   ],
   "source": [
    "print(posts_by_hours)"
   ]
  },
  {
   "cell_type": "code",
   "execution_count": 44,
   "metadata": {},
   "outputs": [
    {
     "name": "stdout",
     "output_type": "stream",
     "text": [
      "{'00': 303, '01': 286, '02': 271, '03': 275, '04': 247, '05': 210, '06': 238, '07': 228, '08': 260, '09': 224, '10': 287, '11': 317, '12': 351, '13': 449, '14': 524, '15': 651, '16': 587, '17': 598, '18': 630, '19': 563, '20': 516, '21': 522, '22': 384, '23': 348}\n"
     ]
    }
   ],
   "source": [
    "#sorting n_comment by the hour\n",
    "sorted_posts_by_hours={}\n",
    "for key in sorted(posts_by_hours.keys()):\n",
    "    sorted_posts_by_hours[key]=posts_by_hours[key]\n",
    "\n",
    "print(sorted_posts_by_hours)"
   ]
  },
  {
   "cell_type": "code",
   "execution_count": 104,
   "metadata": {},
   "outputs": [
    {
     "data": {
      "text/plain": [
       "Text(0.5, 0, 'hours')"
      ]
     },
     "execution_count": 104,
     "metadata": {},
     "output_type": "execute_result"
    },
    {
     "data": {
      "image/png": "[encoded data removed]",
      "text/plain": [
       "<Figure size 576x432 with 1 Axes>"
      ]
     },
     "metadata": {
      "needs_background": "light"
     },
     "output_type": "display_data"
    }
   ],
   "source": [
    "#stats\n",
    "mean_posts_by_hours=np.mean(list(sorted_posts_by_hours.values()))\n",
    "std_post_by_hours=np.std(list(sorted_posts_by_hours.values()))\n",
    "\n",
    "#plot n_comments vs hour\n",
    "plt.figure(figsize=(8,6))\n",
    "plt.bar(sorted_posts_by_hours.keys(),sorted_posts_by_hours.values())\n",
    "plt.bar('15',sorted_posts_by_hours['15'],color='orange',label='time with highest ask posts')\n",
    "plt.axhline(mean_posts_by_hours,\n",
    "            color='darkred',\n",
    "            label='mean posts/hours')\n",
    "\n",
    "plt.legend()\n",
    "plt.title('n ask posts per hours',size=14)\n",
    "plt.ylabel('n_ask_posts',size=12)\n",
    "plt.xlabel('hours',size=12)"
   ]
  },
  {
   "cell_type": "markdown",
   "metadata": {},
   "source": [
    "=>posts are mostly published during the afternoon until evening with a pick between 3pm - 4pm"
   ]
  },
  {
   "cell_type": "code",
   "execution_count": 105,
   "metadata": {},
   "outputs": [
    {
     "data": {
      "text/plain": [
       "<matplotlib.legend.Legend at 0x7f94741b78d0>"
      ]
     },
     "execution_count": 105,
     "metadata": {},
     "output_type": "execute_result"
    },
    {
     "data": {
      "image/png": "[encoded data removed]",
      "text/plain": [
       "<Figure size 576x432 with 1 Axes>"
      ]
     },
     "metadata": {
      "needs_background": "light"
     },
     "output_type": "display_data"
    }
   ],
   "source": [
    "sorted_comments_by_hours={}\n",
    "for key in sorted(comments_by_hours.keys()):\n",
    "    sorted_comments_by_hours[key]=comments_by_hours[key]\n",
    "\n",
    "plt.figure(figsize=(8,6))\n",
    "\n",
    "mean_comments_by_hours=np.mean(list(sorted_comments_by_hours.values()))\n",
    "plt.bar(sorted_comments_by_hours.keys(),\n",
    "        sorted_comments_by_hours.values())\n",
    "plt.bar(15,sorted_comments_by_hours['15'],\n",
    "        label='hight n_comments/hours')\n",
    "plt.axhline(mean_comments_by_hours,color='darkred',label='average comments')\n",
    "plt.xlabel('hours')\n",
    "plt.ylabel('n_comments')\n",
    "plt.title('n_comments for ask posts by hours')\n",
    "plt.legend()"
   ]
  },
  {
   "cell_type": "markdown",
   "metadata": {},
   "source": [
    "=> posts published between **3 and 4pm** are the one with the highest number of comments. \n",
    "the small increase of number of post (see cell above) at 15 does not explain the steep increase of comments for 15.\n",
    "       \n",
    "=> the hours labeleled are from EST, in Europe is 6 hours more hence the location from the posts or comments was written could be a complentary information\n",
    "\n",
    "the calculation of the **average number of comments per post according to the hours** might help to get a better overview of the trend"
   ]
  },
  {
   "cell_type": "code",
   "execution_count": 85,
   "metadata": {},
   "outputs": [
    {
     "name": "stdout",
     "output_type": "stream",
     "text": [
      "{'00': 7.514851485148514, '01': 7.311188811188811, '02': 11.062730627306273, '03': 7.970909090909091, '04': 9.611336032388664, '05': 8.752380952380953, '06': 6.676470588235294, '07': 6.956140350877193, '08': 9.146153846153846, '09': 6.59375, '10': 10.515679442508711, '11': 8.83596214511041, '12': 12.190883190883191, '13': 16.169265033407573, '14': 9.517175572519085, '15': 28.456221198156683, '16': 7.846678023850085, '17': 9.41304347826087, '18': 7.750793650793651, '19': 7.351687388987567, '20': 8.662790697674419, '21': 8.620689655172415, '22': 8.78125, '23': 7.089080459770115}\n"
     ]
    }
   ],
   "source": [
    "# n_comments_by_hours/n_posts_by_hours\n",
    "avg_by_hour={}\n",
    "for hour in sorted_comments_by_hours:\n",
    "    \n",
    "    average = sorted_comments_by_hours[hour] / sorted_posts_by_hours[hour]\n",
    "    avg_by_hour[hour]=average\n",
    "print(avg_by_hour)"
   ]
  },
  {
   "cell_type": "code",
   "execution_count": 106,
   "metadata": {},
   "outputs": [
    {
     "data": {
      "text/plain": [
       "Text(0, 0.5, 'mean comments/ask HN post')"
      ]
     },
     "execution_count": 106,
     "metadata": {},
     "output_type": "execute_result"
    },
    {
     "data": {
      "image/png": "[encoded data removed]",
      "text/plain": [
       "<Figure size 576x432 with 1 Axes>"
      ]
     },
     "metadata": {
      "needs_background": "light"
     },
     "output_type": "display_data"
    }
   ],
   "source": [
    "plt.figure(figsize=(8,6))\n",
    "plt.bar(avg_by_hour.keys(),avg_by_hour.values())\n",
    "plt.bar(15,avg_by_hour['15'],color='orange', label='hightest comments/ ask HN post')\n",
    "plt.title('mean comments/ask HN post',size=14)\n",
    "plt.xlabel('hours',size=12)\n",
    "plt.ylabel('mean comments/ask HN post',size=12)\n",
    "\n"
   ]
  },
  {
   "cell_type": "code",
   "execution_count": 98,
   "metadata": {},
   "outputs": [
    {
     "ename": "ValueError",
     "evalue": "Unknown format code 'f' for object of type 'str'",
     "output_type": "error",
     "traceback": [
      "\u001b[0;31m---------------------------------------------------------------------------\u001b[0m",
      "\u001b[0;31mValueError\u001b[0m                                Traceback (most recent call last)",
      "\u001b[0;32m<ipython-input-98-ad58409e1a59>\u001b[0m in \u001b[0;36m<module>\u001b[0;34m\u001b[0m\n\u001b[1;32m      3\u001b[0m     \u001b[0mswap_avg_by_hour\u001b[0m\u001b[0;34m.\u001b[0m\u001b[0mappend\u001b[0m\u001b[0;34m(\u001b[0m\u001b[0;34m[\u001b[0m\u001b[0mhour\u001b[0m\u001b[0;34m[\u001b[0m\u001b[0;36m1\u001b[0m\u001b[0;34m]\u001b[0m\u001b[0;34m,\u001b[0m\u001b[0mhour\u001b[0m\u001b[0;34m[\u001b[0m\u001b[0;36m0\u001b[0m\u001b[0;34m]\u001b[0m\u001b[0;34m]\u001b[0m\u001b[0;34m)\u001b[0m\u001b[0;34m\u001b[0m\u001b[0;34m\u001b[0m\u001b[0m\n\u001b[1;32m      4\u001b[0m \u001b[0mmax_avg\u001b[0m\u001b[0;34m=\u001b[0m\u001b[0mmax\u001b[0m\u001b[0;34m(\u001b[0m\u001b[0mswap_avg_by_hour\u001b[0m\u001b[0;34m)\u001b[0m\u001b[0;34m\u001b[0m\u001b[0;34m\u001b[0m\u001b[0m\n\u001b[0;32m----> 5\u001b[0;31m \u001b[0mprint\u001b[0m\u001b[0;34m(\u001b[0m\u001b[0;34m'The best time to publish is a post is {0} with {1:.2f} comments per post in average'\u001b[0m\u001b[0;34m.\u001b[0m\u001b[0mformat\u001b[0m\u001b[0;34m(\u001b[0m\u001b[0mmax_avg\u001b[0m\u001b[0;34m[\u001b[0m\u001b[0;36m1\u001b[0m\u001b[0;34m]\u001b[0m\u001b[0;34m,\u001b[0m\u001b[0mmax_avg\u001b[0m\u001b[0;34m[\u001b[0m\u001b[0;36m0\u001b[0m\u001b[0;34m]\u001b[0m\u001b[0;34m)\u001b[0m\u001b[0;34m)\u001b[0m\u001b[0;34m\u001b[0m\u001b[0;34m\u001b[0m\u001b[0m\n\u001b[0m",
      "\u001b[0;31mValueError\u001b[0m: Unknown format code 'f' for object of type 'str'"
     ]
    }
   ],
   "source": [
    "swap_avg_by_hour=[]\n",
    "for hour in avg_by_hour:\n",
    "    swap_avg_by_hour.append([hour[1],hour[0]])\n",
    "max_avg=max(swap_avg_by_hour)\n",
    "print('The best time to publish is a post is {0} with {1:.2f} comments per post in average'.format(max_avg[1],max_avg[0]))"
   ]
  },
  {
   "cell_type": "code",
   "execution_count": 48,
   "metadata": {},
   "outputs": [],
   "source": [
    "sorted_swap=sorted(swap_avg_by_hour,reverse=True)"
   ]
  },
  {
   "cell_type": "code",
   "execution_count": 49,
   "metadata": {},
   "outputs": [
    {
     "data": {
      "text/plain": [
       "[[28.456221198156683, '15'],\n",
       " [16.169265033407573, '13'],\n",
       " [12.190883190883191, '12'],\n",
       " [11.062730627306273, '02'],\n",
       " [10.515679442508711, '10']]"
      ]
     },
     "execution_count": 49,
     "metadata": {},
     "output_type": "execute_result"
    }
   ],
   "source": [
    "sorted_swap[0:5]"
   ]
  },
  {
   "cell_type": "code",
   "execution_count": 118,
   "metadata": {},
   "outputs": [
    {
     "ename": "NameError",
     "evalue": "name 'sorted_swap' is not defined",
     "output_type": "error",
     "traceback": [
      "\u001b[0;31m---------------------------------------------------------------------------\u001b[0m",
      "\u001b[0;31mNameError\u001b[0m                                 Traceback (most recent call last)",
      "\u001b[0;32m<ipython-input-118-6d43b0b66054>\u001b[0m in \u001b[0;36m<module>\u001b[0;34m\u001b[0m\n\u001b[1;32m      1\u001b[0m \u001b[0;32mimport\u001b[0m \u001b[0mdatetime\u001b[0m \u001b[0;32mas\u001b[0m \u001b[0mdt\u001b[0m\u001b[0;34m\u001b[0m\u001b[0;34m\u001b[0m\u001b[0m\n\u001b[0;32m----> 2\u001b[0;31m \u001b[0;32mfor\u001b[0m \u001b[0mrow\u001b[0m \u001b[0;32min\u001b[0m \u001b[0msorted_swap\u001b[0m\u001b[0;34m[\u001b[0m\u001b[0;34m:\u001b[0m\u001b[0;36m5\u001b[0m\u001b[0;34m]\u001b[0m\u001b[0;34m:\u001b[0m\u001b[0;34m\u001b[0m\u001b[0;34m\u001b[0m\u001b[0m\n\u001b[0m\u001b[1;32m      3\u001b[0m     \u001b[0mavg\u001b[0m\u001b[0;34m=\u001b[0m\u001b[0mrow\u001b[0m\u001b[0;34m[\u001b[0m\u001b[0;36m0\u001b[0m\u001b[0;34m]\u001b[0m\u001b[0;34m\u001b[0m\u001b[0;34m\u001b[0m\u001b[0m\n\u001b[1;32m      4\u001b[0m     \u001b[0mtime\u001b[0m\u001b[0;34m=\u001b[0m\u001b[0mrow\u001b[0m\u001b[0;34m[\u001b[0m\u001b[0;36m1\u001b[0m\u001b[0;34m]\u001b[0m\u001b[0;34m\u001b[0m\u001b[0;34m\u001b[0m\u001b[0m\n\u001b[1;32m      5\u001b[0m     \u001b[0mtime\u001b[0m\u001b[0;34m=\u001b[0m\u001b[0mdt\u001b[0m\u001b[0;34m.\u001b[0m\u001b[0mdatetime\u001b[0m\u001b[0;34m.\u001b[0m\u001b[0mstrptime\u001b[0m\u001b[0;34m(\u001b[0m\u001b[0mtime\u001b[0m\u001b[0;34m,\u001b[0m\u001b[0;34m'%H'\u001b[0m\u001b[0;34m)\u001b[0m\u001b[0;34m+\u001b[0m\u001b[0mdt\u001b[0m\u001b[0;34m.\u001b[0m\u001b[0mtimedelta\u001b[0m\u001b[0;34m(\u001b[0m\u001b[0mhours\u001b[0m\u001b[0;34m=\u001b[0m\u001b[0;36m6\u001b[0m\u001b[0;34m)\u001b[0m\u001b[0;34m\u001b[0m\u001b[0;34m\u001b[0m\u001b[0m\n",
      "\u001b[0;31mNameError\u001b[0m: name 'sorted_swap' is not defined"
     ]
    }
   ],
   "source": [
    "import datetime as dt\n",
    "for row in sorted_swap[:5]:\n",
    "    avg=row[0]\n",
    "    time=row[1]\n",
    "    time=dt.datetime.strptime(time,'%H')+dt.timedelta(hours=6)\n",
    "    time=dt.datetime.strftime(time,'%H:%M')\n",
    "    \n",
    "    print('at {} you will get {:.2f} average comments per post'.format(time,avg))"
   ]
  },
  {
   "cell_type": "markdown",
   "metadata": {},
   "source": [
    "### same work with show HN posts"
   ]
  },
  {
   "cell_type": "code",
   "execution_count": 109,
   "metadata": {},
   "outputs": [
    {
     "data": {
      "text/plain": [
       "['id', 'title', 'url', 'num_points', 'num_comments', 'author', 'created_at']"
      ]
     },
     "execution_count": 109,
     "metadata": {},
     "output_type": "execute_result"
    }
   ],
   "source": [
    "headers"
   ]
  },
  {
   "cell_type": "code",
   "execution_count": 112,
   "metadata": {},
   "outputs": [
    {
     "data": {
      "text/plain": [
       "['12578335',\n",
       " 'Show HN: Finding puns computationally',\n",
       " 'http://puns.samueltaylor.org/',\n",
       " '2',\n",
       " '0',\n",
       " 'saamm',\n",
       " '9/26/2016 0:36']"
      ]
     },
     "execution_count": 112,
     "metadata": {},
     "output_type": "execute_result"
    }
   ],
   "source": [
    "show_posts[0]"
   ]
  },
  {
   "cell_type": "code",
   "execution_count": 117,
   "metadata": {},
   "outputs": [
    {
     "ename": "ValueError",
     "evalue": "'/' is a bad directive in format '%m/%d%/%Y %H:%M'",
     "output_type": "error",
     "traceback": [
      "\u001b[0;31m---------------------------------------------------------------------------\u001b[0m",
      "\u001b[0;31mValueError\u001b[0m                                Traceback (most recent call last)",
      "\u001b[0;32m<ipython-input-117-a4cebb144700>\u001b[0m in \u001b[0;36m<module>\u001b[0;34m\u001b[0m\n\u001b[1;32m      1\u001b[0m \u001b[0;31m#show_posts[0]\u001b[0m\u001b[0;34m\u001b[0m\u001b[0;34m\u001b[0m\u001b[0;34m\u001b[0m\u001b[0m\n\u001b[1;32m      2\u001b[0m \u001b[0;32mimport\u001b[0m \u001b[0mdatetime\u001b[0m\u001b[0;34m\u001b[0m\u001b[0;34m\u001b[0m\u001b[0m\n\u001b[0;32m----> 3\u001b[0;31m \u001b[0mdt\u001b[0m\u001b[0;34m.\u001b[0m\u001b[0mdatetime\u001b[0m\u001b[0;34m.\u001b[0m\u001b[0mstrptime\u001b[0m\u001b[0;34m(\u001b[0m\u001b[0mshow_posts\u001b[0m\u001b[0;34m[\u001b[0m\u001b[0;36m0\u001b[0m\u001b[0;34m]\u001b[0m\u001b[0;34m[\u001b[0m\u001b[0;36m0\u001b[0m\u001b[0;34m]\u001b[0m\u001b[0;34m,\u001b[0m\u001b[0;34m'%m/%d%/%Y %H:%M'\u001b[0m\u001b[0;34m)\u001b[0m\u001b[0;34m\u001b[0m\u001b[0;34m\u001b[0m\u001b[0m\n\u001b[0m",
      "\u001b[0;32m~/anaconda3/lib/python3.7/_strptime.py\u001b[0m in \u001b[0;36m_strptime_datetime\u001b[0;34m(cls, data_string, format)\u001b[0m\n\u001b[1;32m    575\u001b[0m     \"\"\"Return a class cls instance based on the input string and the\n\u001b[1;32m    576\u001b[0m     format string.\"\"\"\n\u001b[0;32m--> 577\u001b[0;31m     \u001b[0mtt\u001b[0m\u001b[0;34m,\u001b[0m \u001b[0mfraction\u001b[0m\u001b[0;34m,\u001b[0m \u001b[0mgmtoff_fraction\u001b[0m \u001b[0;34m=\u001b[0m \u001b[0m_strptime\u001b[0m\u001b[0;34m(\u001b[0m\u001b[0mdata_string\u001b[0m\u001b[0;34m,\u001b[0m \u001b[0mformat\u001b[0m\u001b[0;34m)\u001b[0m\u001b[0;34m\u001b[0m\u001b[0;34m\u001b[0m\u001b[0m\n\u001b[0m\u001b[1;32m    578\u001b[0m     \u001b[0mtzname\u001b[0m\u001b[0;34m,\u001b[0m \u001b[0mgmtoff\u001b[0m \u001b[0;34m=\u001b[0m \u001b[0mtt\u001b[0m\u001b[0;34m[\u001b[0m\u001b[0;34m-\u001b[0m\u001b[0;36m2\u001b[0m\u001b[0;34m:\u001b[0m\u001b[0;34m]\u001b[0m\u001b[0;34m\u001b[0m\u001b[0;34m\u001b[0m\u001b[0m\n\u001b[1;32m    579\u001b[0m     \u001b[0margs\u001b[0m \u001b[0;34m=\u001b[0m \u001b[0mtt\u001b[0m\u001b[0;34m[\u001b[0m\u001b[0;34m:\u001b[0m\u001b[0;36m6\u001b[0m\u001b[0;34m]\u001b[0m \u001b[0;34m+\u001b[0m \u001b[0;34m(\u001b[0m\u001b[0mfraction\u001b[0m\u001b[0;34m,\u001b[0m\u001b[0;34m)\u001b[0m\u001b[0;34m\u001b[0m\u001b[0;34m\u001b[0m\u001b[0m\n",
      "\u001b[0;32m~/anaconda3/lib/python3.7/_strptime.py\u001b[0m in \u001b[0;36m_strptime\u001b[0;34m(data_string, format)\u001b[0m\n\u001b[1;32m    349\u001b[0m                 \u001b[0;32mdel\u001b[0m \u001b[0merr\u001b[0m\u001b[0;34m\u001b[0m\u001b[0;34m\u001b[0m\u001b[0m\n\u001b[1;32m    350\u001b[0m                 raise ValueError(\"'%s' is a bad directive in format '%s'\" %\n\u001b[0;32m--> 351\u001b[0;31m                                     (bad_directive, format)) from None\n\u001b[0m\u001b[1;32m    352\u001b[0m             \u001b[0;31m# IndexError only occurs when the format string is \"%\"\u001b[0m\u001b[0;34m\u001b[0m\u001b[0;34m\u001b[0m\u001b[0;34m\u001b[0m\u001b[0m\n\u001b[1;32m    353\u001b[0m             \u001b[0;32mexcept\u001b[0m \u001b[0mIndexError\u001b[0m\u001b[0;34m:\u001b[0m\u001b[0;34m\u001b[0m\u001b[0;34m\u001b[0m\u001b[0m\n",
      "\u001b[0;31mValueError\u001b[0m: '/' is a bad directive in format '%m/%d%/%Y %H:%M'"
     ]
    }
   ],
   "source": [
    "#show_posts[0]\n",
    "import datetime\n",
    "dt.datetime.strptime(show_posts[0][0],'%m/%d%/%Y %H:%M')"
   ]
  },
  {
   "cell_type": "code",
   "execution_count": 110,
   "metadata": {},
   "outputs": [
    {
     "ename": "SyntaxError",
     "evalue": "unexpected EOF while parsing (<ipython-input-110-3e648bd128f7>, line 3)",
     "output_type": "error",
     "traceback": [
      "\u001b[0;36m  File \u001b[0;32m\"<ipython-input-110-3e648bd128f7>\"\u001b[0;36m, line \u001b[0;32m3\u001b[0m\n\u001b[0;31m    \u001b[0m\n\u001b[0m    ^\u001b[0m\n\u001b[0;31mSyntaxError\u001b[0m\u001b[0;31m:\u001b[0m unexpected EOF while parsing\n"
     ]
    }
   ],
   "source": [
    "#fixing datetime\n",
    "for row in show_posts:\n",
    "    "
   ]
  },
  {
   "cell_type": "code",
   "execution_count": null,
   "metadata": {},
   "outputs": [],
   "source": []
  },
  {
   "cell_type": "code",
   "execution_count": null,
   "metadata": {},
   "outputs": [],
   "source": []
  },
  {
   "cell_type": "code",
   "execution_count": null,
   "metadata": {},
   "outputs": [],
   "source": []
  },
  {
   "cell_type": "markdown",
   "metadata": {},
   "source": [
    "## going further: \n",
    "Determine if show or ask posts receive more points on average.\n",
    "Determine if posts created at a certain time are more likely to receive more points.\n",
    "Compare your results to the average number of comments and points other posts receive.\n"
   ]
  },
  {
   "cell_type": "code",
   "execution_count": null,
   "metadata": {},
   "outputs": [],
   "source": []
  },
  {
   "cell_type": "code",
   "execution_count": 108,
   "metadata": {},
   "outputs": [
    {
     "data": {
      "text/plain": [
       "['id', 'title', 'url', 'num_points', 'num_comments', 'author', 'created_at']"
      ]
     },
     "execution_count": 108,
     "metadata": {},
     "output_type": "execute_result"
    }
   ],
   "source": [
    "headers"
   ]
  },
  {
   "cell_type": "code",
   "execution_count": null,
   "metadata": {},
   "outputs": [],
   "source": []
  },
  {
   "cell_type": "code",
   "execution_count": null,
   "metadata": {},
   "outputs": [],
   "source": []
  },
  {
   "cell_type": "code",
   "execution_count": null,
   "metadata": {},
   "outputs": [],
   "source": []
  },
  {
   "cell_type": "markdown",
   "metadata": {},
   "source": [
    "### number of authors\n",
    "\n",
    "interesting to know the ratio post/authors to see if only a few write a lot of posts"
   ]
  },
  {
   "cell_type": "code",
   "execution_count": 51,
   "metadata": {},
   "outputs": [],
   "source": [
    "import pandas as pd"
   ]
  },
  {
   "cell_type": "code",
   "execution_count": 52,
   "metadata": {},
   "outputs": [],
   "source": [
    "df = pd.read_csv('HN_posts_year_to_Sep_26_2016.csv')"
   ]
  },
  {
   "cell_type": "code",
   "execution_count": 53,
   "metadata": {},
   "outputs": [
    {
     "data": {
      "text/plain": [
       "Index(['id', 'title', 'url', 'num_points', 'num_comments', 'author',\n",
       "       'created_at'],\n",
       "      dtype='object')"
      ]
     },
     "execution_count": 53,
     "metadata": {},
     "output_type": "execute_result"
    }
   ],
   "source": [
    "df.columns"
   ]
  },
  {
   "cell_type": "code",
   "execution_count": 66,
   "metadata": {},
   "outputs": [],
   "source": [
    "df['title']=df['title'].str.lower()"
   ]
  },
  {
   "cell_type": "code",
   "execution_count": 68,
   "metadata": {},
   "outputs": [
    {
     "data": {
      "text/html": [
       "<div>\n",
       "<style scoped>\n",
       "    .dataframe tbody tr th:only-of-type {\n",
       "        vertical-align: middle;\n",
       "    }\n",
       "\n",
       "    .dataframe tbody tr th {\n",
       "        vertical-align: top;\n",
       "    }\n",
       "\n",
       "    .dataframe thead th {\n",
       "        text-align: right;\n",
       "    }\n",
       "</style>\n",
       "<table border=\"1\" class=\"dataframe\">\n",
       "  <thead>\n",
       "    <tr style=\"text-align: right;\">\n",
       "      <th></th>\n",
       "      <th>id</th>\n",
       "      <th>title</th>\n",
       "      <th>url</th>\n",
       "      <th>num_points</th>\n",
       "      <th>num_comments</th>\n",
       "      <th>author</th>\n",
       "      <th>created_at</th>\n",
       "    </tr>\n",
       "  </thead>\n",
       "  <tbody>\n",
       "    <tr>\n",
       "      <th>52</th>\n",
       "      <td>12578335</td>\n",
       "      <td>show hn: finding puns computationally</td>\n",
       "      <td>http://puns.samueltaylor.org/</td>\n",
       "      <td>2</td>\n",
       "      <td>0</td>\n",
       "      <td>saamm</td>\n",
       "      <td>9/26/2016 0:36</td>\n",
       "    </tr>\n",
       "    <tr>\n",
       "      <th>58</th>\n",
       "      <td>12578182</td>\n",
       "      <td>show hn: a simple library for complicated anim...</td>\n",
       "      <td>https://christinecha.github.io/choreographer-js/</td>\n",
       "      <td>1</td>\n",
       "      <td>0</td>\n",
       "      <td>christinecha</td>\n",
       "      <td>9/26/2016 0:01</td>\n",
       "    </tr>\n",
       "    <tr>\n",
       "      <th>64</th>\n",
       "      <td>12578098</td>\n",
       "      <td>show hn: webgl visualization of dna sequences</td>\n",
       "      <td>http://grondilu.github.io/dna.html</td>\n",
       "      <td>1</td>\n",
       "      <td>0</td>\n",
       "      <td>grondilu</td>\n",
       "      <td>9/25/2016 23:44</td>\n",
       "    </tr>\n",
       "    <tr>\n",
       "      <th>70</th>\n",
       "      <td>12577991</td>\n",
       "      <td>show hn: pomodoro-centric, heirarchical projec...</td>\n",
       "      <td>https://github.com/jakebian/zeal</td>\n",
       "      <td>2</td>\n",
       "      <td>0</td>\n",
       "      <td>dbranes</td>\n",
       "      <td>9/25/2016 23:17</td>\n",
       "    </tr>\n",
       "    <tr>\n",
       "      <th>140</th>\n",
       "      <td>12577142</td>\n",
       "      <td>show hn: jumble  essays on the go #paulinyourp...</td>\n",
       "      <td>https://itunes.apple.com/us/app/jumble-find-st...</td>\n",
       "      <td>1</td>\n",
       "      <td>1</td>\n",
       "      <td>ryderj</td>\n",
       "      <td>9/25/2016 20:06</td>\n",
       "    </tr>\n",
       "    <tr>\n",
       "      <th>...</th>\n",
       "      <td>...</td>\n",
       "      <td>...</td>\n",
       "      <td>...</td>\n",
       "      <td>...</td>\n",
       "      <td>...</td>\n",
       "      <td>...</td>\n",
       "      <td>...</td>\n",
       "    </tr>\n",
       "    <tr>\n",
       "      <th>292995</th>\n",
       "      <td>10177714</td>\n",
       "      <td>show hn: repartee  the sms messaging stack for...</td>\n",
       "      <td>https://github.com/markgreenall/Repartee</td>\n",
       "      <td>2</td>\n",
       "      <td>0</td>\n",
       "      <td>Nuratu</td>\n",
       "      <td>9/6/2015 14:21</td>\n",
       "    </tr>\n",
       "    <tr>\n",
       "      <th>293002</th>\n",
       "      <td>10177631</td>\n",
       "      <td>show hn: immutable and type-checked state and ...</td>\n",
       "      <td>https://github.com/gcanti/redux-tcomb</td>\n",
       "      <td>20</td>\n",
       "      <td>2</td>\n",
       "      <td>gcanti</td>\n",
       "      <td>9/6/2015 13:50</td>\n",
       "    </tr>\n",
       "    <tr>\n",
       "      <th>293019</th>\n",
       "      <td>10177511</td>\n",
       "      <td>show hn: mocktheclock  a tiny javascript libra...</td>\n",
       "      <td>https://github.com/zb3/MockTheClock</td>\n",
       "      <td>18</td>\n",
       "      <td>6</td>\n",
       "      <td>zb3</td>\n",
       "      <td>9/6/2015 13:02</td>\n",
       "    </tr>\n",
       "    <tr>\n",
       "      <th>293028</th>\n",
       "      <td>10177459</td>\n",
       "      <td>show hn: appypaper  gift wrap with app icons p...</td>\n",
       "      <td>http://www.appypaper.com/</td>\n",
       "      <td>6</td>\n",
       "      <td>4</td>\n",
       "      <td>submitstartup</td>\n",
       "      <td>9/6/2015 12:38</td>\n",
       "    </tr>\n",
       "    <tr>\n",
       "      <th>293037</th>\n",
       "      <td>10177421</td>\n",
       "      <td>show hn: popularity scoring for arxiv publicat...</td>\n",
       "      <td>https://gist.github.com/nebw/5504697c118744677c2d</td>\n",
       "      <td>17</td>\n",
       "      <td>1</td>\n",
       "      <td>nebw</td>\n",
       "      <td>9/6/2015 12:16</td>\n",
       "    </tr>\n",
       "  </tbody>\n",
       "</table>\n",
       "<p>10218 rows × 7 columns</p>\n",
       "</div>"
      ],
      "text/plain": [
       "              id                                              title  \\\n",
       "52      12578335              show hn: finding puns computationally   \n",
       "58      12578182  show hn: a simple library for complicated anim...   \n",
       "64      12578098      show hn: webgl visualization of dna sequences   \n",
       "70      12577991  show hn: pomodoro-centric, heirarchical projec...   \n",
       "140     12577142  show hn: jumble  essays on the go #paulinyourp...   \n",
       "...          ...                                                ...   \n",
       "292995  10177714  show hn: repartee  the sms messaging stack for...   \n",
       "293002  10177631  show hn: immutable and type-checked state and ...   \n",
       "293019  10177511  show hn: mocktheclock  a tiny javascript libra...   \n",
       "293028  10177459  show hn: appypaper  gift wrap with app icons p...   \n",
       "293037  10177421  show hn: popularity scoring for arxiv publicat...   \n",
       "\n",
       "                                                      url  num_points  \\\n",
       "52                          http://puns.samueltaylor.org/           2   \n",
       "58       https://christinecha.github.io/choreographer-js/           1   \n",
       "64                     http://grondilu.github.io/dna.html           1   \n",
       "70                       https://github.com/jakebian/zeal           2   \n",
       "140     https://itunes.apple.com/us/app/jumble-find-st...           1   \n",
       "...                                                   ...         ...   \n",
       "292995           https://github.com/markgreenall/Repartee           2   \n",
       "293002              https://github.com/gcanti/redux-tcomb          20   \n",
       "293019                https://github.com/zb3/MockTheClock          18   \n",
       "293028                          http://www.appypaper.com/           6   \n",
       "293037  https://gist.github.com/nebw/5504697c118744677c2d          17   \n",
       "\n",
       "        num_comments         author       created_at  \n",
       "52                 0          saamm   9/26/2016 0:36  \n",
       "58                 0   christinecha   9/26/2016 0:01  \n",
       "64                 0       grondilu  9/25/2016 23:44  \n",
       "70                 0        dbranes  9/25/2016 23:17  \n",
       "140                1         ryderj  9/25/2016 20:06  \n",
       "...              ...            ...              ...  \n",
       "292995             0         Nuratu   9/6/2015 14:21  \n",
       "293002             2         gcanti   9/6/2015 13:50  \n",
       "293019             6            zb3   9/6/2015 13:02  \n",
       "293028             4  submitstartup   9/6/2015 12:38  \n",
       "293037             1           nebw   9/6/2015 12:16  \n",
       "\n",
       "[10218 rows x 7 columns]"
      ]
     },
     "execution_count": 68,
     "metadata": {},
     "output_type": "execute_result"
    }
   ],
   "source": [
    "#select all post starting with show \n",
    "df.loc[df['title'].str.startswith('show')]"
   ]
  },
  {
   "cell_type": "code",
   "execution_count": 72,
   "metadata": {},
   "outputs": [
    {
     "data": {
      "text/html": [
       "<div>\n",
       "<style scoped>\n",
       "    .dataframe tbody tr th:only-of-type {\n",
       "        vertical-align: middle;\n",
       "    }\n",
       "\n",
       "    .dataframe tbody tr th {\n",
       "        vertical-align: top;\n",
       "    }\n",
       "\n",
       "    .dataframe thead th {\n",
       "        text-align: right;\n",
       "    }\n",
       "</style>\n",
       "<table border=\"1\" class=\"dataframe\">\n",
       "  <thead>\n",
       "    <tr style=\"text-align: right;\">\n",
       "      <th></th>\n",
       "      <th>id</th>\n",
       "      <th>title</th>\n",
       "      <th>url</th>\n",
       "      <th>num_points</th>\n",
       "      <th>num_comments</th>\n",
       "      <th>author</th>\n",
       "      <th>created_at</th>\n",
       "    </tr>\n",
       "  </thead>\n",
       "  <tbody>\n",
       "    <tr>\n",
       "      <th>10</th>\n",
       "      <td>12578908</td>\n",
       "      <td>ask hn: what tld do you use for local developm...</td>\n",
       "      <td>NaN</td>\n",
       "      <td>4</td>\n",
       "      <td>7</td>\n",
       "      <td>Sevrene</td>\n",
       "      <td>9/26/2016 2:53</td>\n",
       "    </tr>\n",
       "    <tr>\n",
       "      <th>42</th>\n",
       "      <td>12578522</td>\n",
       "      <td>ask hn: how do you pass on your work when you ...</td>\n",
       "      <td>NaN</td>\n",
       "      <td>6</td>\n",
       "      <td>3</td>\n",
       "      <td>PascLeRasc</td>\n",
       "      <td>9/26/2016 1:17</td>\n",
       "    </tr>\n",
       "    <tr>\n",
       "      <th>76</th>\n",
       "      <td>12577908</td>\n",
       "      <td>ask hn: how a dns problem can be limited to a ...</td>\n",
       "      <td>NaN</td>\n",
       "      <td>1</td>\n",
       "      <td>0</td>\n",
       "      <td>kuon</td>\n",
       "      <td>9/25/2016 22:57</td>\n",
       "    </tr>\n",
       "    <tr>\n",
       "      <th>80</th>\n",
       "      <td>12577870</td>\n",
       "      <td>ask hn: why join a fund when you can be an angel?</td>\n",
       "      <td>NaN</td>\n",
       "      <td>1</td>\n",
       "      <td>3</td>\n",
       "      <td>anthony_james</td>\n",
       "      <td>9/25/2016 22:48</td>\n",
       "    </tr>\n",
       "    <tr>\n",
       "      <th>102</th>\n",
       "      <td>12577647</td>\n",
       "      <td>ask hn: someone uses stock trading as passive ...</td>\n",
       "      <td>NaN</td>\n",
       "      <td>5</td>\n",
       "      <td>2</td>\n",
       "      <td>00taffe</td>\n",
       "      <td>9/25/2016 21:50</td>\n",
       "    </tr>\n",
       "    <tr>\n",
       "      <th>...</th>\n",
       "      <td>...</td>\n",
       "      <td>...</td>\n",
       "      <td>...</td>\n",
       "      <td>...</td>\n",
       "      <td>...</td>\n",
       "      <td>...</td>\n",
       "      <td>...</td>\n",
       "    </tr>\n",
       "    <tr>\n",
       "      <th>293047</th>\n",
       "      <td>10177359</td>\n",
       "      <td>ask hn: is coursera specialization in product ...</td>\n",
       "      <td>NaN</td>\n",
       "      <td>1</td>\n",
       "      <td>0</td>\n",
       "      <td>pipipzz</td>\n",
       "      <td>9/6/2015 11:27</td>\n",
       "    </tr>\n",
       "    <tr>\n",
       "      <th>293052</th>\n",
       "      <td>10177317</td>\n",
       "      <td>ask hn: any meteor devs out there who could sp...</td>\n",
       "      <td>NaN</td>\n",
       "      <td>2</td>\n",
       "      <td>1</td>\n",
       "      <td>louisswiss</td>\n",
       "      <td>9/6/2015 10:52</td>\n",
       "    </tr>\n",
       "    <tr>\n",
       "      <th>293055</th>\n",
       "      <td>10177309</td>\n",
       "      <td>ask hn: any recommendations for books about ra...</td>\n",
       "      <td>NaN</td>\n",
       "      <td>2</td>\n",
       "      <td>4</td>\n",
       "      <td>rationalthrowa</td>\n",
       "      <td>9/6/2015 10:46</td>\n",
       "    </tr>\n",
       "    <tr>\n",
       "      <th>293073</th>\n",
       "      <td>10177200</td>\n",
       "      <td>ask hn: where do you look for work if you need...</td>\n",
       "      <td>NaN</td>\n",
       "      <td>14</td>\n",
       "      <td>20</td>\n",
       "      <td>coroutines</td>\n",
       "      <td>9/6/2015 9:36</td>\n",
       "    </tr>\n",
       "    <tr>\n",
       "      <th>293114</th>\n",
       "      <td>10176919</td>\n",
       "      <td>ask hn: what is/are your favorite quote(s)?</td>\n",
       "      <td>NaN</td>\n",
       "      <td>15</td>\n",
       "      <td>20</td>\n",
       "      <td>kumarski</td>\n",
       "      <td>9/6/2015 6:02</td>\n",
       "    </tr>\n",
       "  </tbody>\n",
       "</table>\n",
       "<p>9269 rows × 7 columns</p>\n",
       "</div>"
      ],
      "text/plain": [
       "              id                                              title  url  \\\n",
       "10      12578908  ask hn: what tld do you use for local developm...  NaN   \n",
       "42      12578522  ask hn: how do you pass on your work when you ...  NaN   \n",
       "76      12577908  ask hn: how a dns problem can be limited to a ...  NaN   \n",
       "80      12577870  ask hn: why join a fund when you can be an angel?  NaN   \n",
       "102     12577647  ask hn: someone uses stock trading as passive ...  NaN   \n",
       "...          ...                                                ...  ...   \n",
       "293047  10177359  ask hn: is coursera specialization in product ...  NaN   \n",
       "293052  10177317  ask hn: any meteor devs out there who could sp...  NaN   \n",
       "293055  10177309  ask hn: any recommendations for books about ra...  NaN   \n",
       "293073  10177200  ask hn: where do you look for work if you need...  NaN   \n",
       "293114  10176919        ask hn: what is/are your favorite quote(s)?  NaN   \n",
       "\n",
       "        num_points  num_comments          author       created_at  \n",
       "10               4             7         Sevrene   9/26/2016 2:53  \n",
       "42               6             3      PascLeRasc   9/26/2016 1:17  \n",
       "76               1             0            kuon  9/25/2016 22:57  \n",
       "80               1             3   anthony_james  9/25/2016 22:48  \n",
       "102              5             2         00taffe  9/25/2016 21:50  \n",
       "...            ...           ...             ...              ...  \n",
       "293047           1             0         pipipzz   9/6/2015 11:27  \n",
       "293052           2             1      louisswiss   9/6/2015 10:52  \n",
       "293055           2             4  rationalthrowa   9/6/2015 10:46  \n",
       "293073          14            20      coroutines    9/6/2015 9:36  \n",
       "293114          15            20        kumarski    9/6/2015 6:02  \n",
       "\n",
       "[9269 rows x 7 columns]"
      ]
     },
     "execution_count": 72,
     "metadata": {},
     "output_type": "execute_result"
    }
   ],
   "source": [
    "#select all posts starting with \"ask\"\n",
    "df.loc[df['title'].str.startswith('ask')]"
   ]
  },
  {
   "cell_type": "code",
   "execution_count": null,
   "metadata": {},
   "outputs": [],
   "source": []
  }
 ],
 "metadata": {
  "kernelspec": {
   "display_name": "Python 3",
   "language": "python",
   "name": "python3"
  },
  "language_info": {
   "codemirror_mode": {
    "name": "ipython",
    "version": 3
   },
   "file_extension": ".py",
   "mimetype": "text/x-python",
   "name": "python",
   "nbconvert_exporter": "python",
   "pygments_lexer": "ipython3",
   "version": "3.7.6"
  }
 },
 "nbformat": 4,
 "nbformat_minor": 4
}
