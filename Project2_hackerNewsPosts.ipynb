{
 "cells": [
  {
   "cell_type": "markdown",
   "metadata": {},
   "source": [
    "## Hacker News Posts project\n",
    "- the dataset emcompasses post from Reddit, a website where users submit and comment posts\n",
    "- the project focus on taking a closer look at\n",
    "    - the post where the user ask a question to the website Hacker News: **Ask HN**. \n",
    "    - the the posts where the user show a project to the website Hacker News: **Show HN**\n",
    "\n",
    "**The questions:**\n",
    "- *out of the 2, what type gets more comments on average?* \n",
    "- *does the time of the post influences the number of comments in average?*\n",
    "\n",
    "\n",
    "\n",
    "#### The analyse was done first with only **Python** and then using Pandas"
   ]
  },
  {
   "cell_type": "markdown",
   "metadata": {},
   "source": [
    "### import database\n",
    "The database is imported as a list"
   ]
  },
  {
   "cell_type": "code",
   "execution_count": 87,
   "metadata": {},
   "outputs": [],
   "source": [
    "from csv import reader\n",
    "import matplotlib.pyplot as plt\n",
    "import numpy as np"
   ]
  },
  {
   "cell_type": "code",
   "execution_count": 88,
   "metadata": {},
   "outputs": [],
   "source": [
    "file=open('HN_posts_year_to_Sep_26_2016.csv', encoding='utf-8')\n",
    "read_file=reader(file)\n",
    "hn=list(read_file)"
   ]
  },
  {
   "cell_type": "code",
   "execution_count": 89,
   "metadata": {},
   "outputs": [
    {
     "data": {
      "text/plain": [
       "['id', 'title', 'url', 'num_points', 'num_comments', 'author', 'created_at']"
      ]
     },
     "execution_count": 89,
     "metadata": {},
     "output_type": "execute_result"
    }
   ],
   "source": [
    "#headers\n",
    "hn[0]"
   ]
  },
  {
   "cell_type": "code",
   "execution_count": 90,
   "metadata": {},
   "outputs": [],
   "source": [
    "headers=hn[0] #extract headers\n",
    "hn=hn[1:] #remove headers from dataset"
   ]
  },
  {
   "cell_type": "code",
   "execution_count": 91,
   "metadata": {},
   "outputs": [
    {
     "name": "stdout",
     "output_type": "stream",
     "text": [
      "['12579008', 'You have two days to comment if you want stem cells to be classified as your own', 'http://www.regulations.gov/document?D=FDA-2015-D-3719-0018', '1', '0', 'altstar', '9/26/2016 3:26']\n"
     ]
    }
   ],
   "source": [
    "#observe the first data entry \n",
    "print(hn[0])"
   ]
  },
  {
   "cell_type": "code",
   "execution_count": 92,
   "metadata": {},
   "outputs": [
    {
     "data": {
      "text/plain": [
       "293119"
      ]
     },
     "execution_count": 92,
     "metadata": {},
     "output_type": "execute_result"
    }
   ],
   "source": [
    "len(hn)"
   ]
  },
  {
   "cell_type": "markdown",
   "metadata": {},
   "source": [
    "##### dectection of the post starting  with either **Ask HN** or **Show HN**  "
   ]
  },
  {
   "cell_type": "code",
   "execution_count": 93,
   "metadata": {
    "scrolled": true
   },
   "outputs": [
    {
     "name": "stdout",
     "output_type": "stream",
     "text": [
      "there are 293119 posts in total\n",
      "there are 9269 ask posts\n",
      "there are 10218 show posts\n",
      "other posts 273632\n",
      "293119\n"
     ]
    }
   ],
   "source": [
    "ask_posts = []\n",
    "show_posts = []\n",
    "other_posts = []\n",
    "\n",
    "for row in hn:\n",
    "    title=row[1]\n",
    "    title=title.lower()\n",
    "    if title.startswith('ask'):\n",
    "        ask_posts.append(row)\n",
    "    elif title.startswith('show'):\n",
    "        show_posts.append(row)\n",
    "    else:\n",
    "        other_posts.append(row)\n",
    "print(f\"there are {len(hn)} posts in total\")\n",
    "print(f\"there are {len(ask_posts)} ask posts\")\n",
    "print(f\"there are {len(show_posts)} show posts\")\n",
    "print(f\"other posts {len(other_posts)}\")\n",
    "print(len(ask_posts+show_posts+other_posts))"
   ]
  },
  {
   "cell_type": "code",
   "execution_count": 94,
   "metadata": {},
   "outputs": [
    {
     "data": {
      "text/plain": [
       "Text(0, 0.5, '% of the post')"
      ]
     },
     "execution_count": 94,
     "metadata": {},
     "output_type": "execute_result"
    },
    {
     "data": {
      "image/png": "[encoded data removed]",
      "text/plain": [
       "<Figure size 432x288 with 1 Axes>"
      ]
     },
     "metadata": {
      "needs_background": "light"
     },
     "output_type": "display_data"
    }
   ],
   "source": [
    "bar_chart=[]\n",
    "for element in [ask_posts, show_posts,other_posts]:\n",
    "    bar_chart.append(len(element)/len(hn)*100)\n",
    "    \n",
    "label=['ask_posts', 'show_posts','other_posts']\n",
    "#plot number of post \n",
    "plt.figure()\n",
    "plt.bar(label,bar_chart)\n",
    "plt.title('% type of posts in dataset',size=14)\n",
    "plt.xlabel('Post type',size=12)\n",
    "plt.ylabel('% of the post',size=12) \n",
    "\n"
   ]
  },
  {
   "cell_type": "markdown",
   "metadata": {},
   "source": [
    "#### remarks:\n",
    "We have well split the show/ask posts the rest of the dataset but they represent only a fraction of it."
   ]
  },
  {
   "cell_type": "markdown",
   "metadata": {},
   "source": [
    "#####  Average comment per show  posts"
   ]
  },
  {
   "cell_type": "code",
   "execution_count": 95,
   "metadata": {},
   "outputs": [
    {
     "data": {
      "text/plain": [
       "['id', 'title', 'url', 'num_points', 'num_comments', 'author', 'created_at']"
      ]
     },
     "execution_count": 95,
     "metadata": {},
     "output_type": "execute_result"
    }
   ],
   "source": [
    "headers"
   ]
  },
  {
   "cell_type": "code",
   "execution_count": 96,
   "metadata": {
    "scrolled": true
   },
   "outputs": [
    {
     "data": {
      "text/plain": [
       "[['12578335',\n",
       "  'Show HN: Finding puns computationally',\n",
       "  'http://puns.samueltaylor.org/',\n",
       "  '2',\n",
       "  '0',\n",
       "  'saamm',\n",
       "  '9/26/2016 0:36'],\n",
       " ['12578182',\n",
       "  'Show HN: A simple library for complicated animations',\n",
       "  'https://christinecha.github.io/choreographer-js/',\n",
       "  '1',\n",
       "  '0',\n",
       "  'christinecha',\n",
       "  '9/26/2016 0:01']]"
      ]
     },
     "execution_count": 96,
     "metadata": {},
     "output_type": "execute_result"
    }
   ],
   "source": [
    "show_posts[0:2]"
   ]
  },
  {
   "cell_type": "markdown",
   "metadata": {},
   "source": [
    "- time to check what type of post get the max average number of posts"
   ]
  },
  {
   "cell_type": "code",
   "execution_count": 97,
   "metadata": {},
   "outputs": [],
   "source": [
    "#loop into each respective dataset and summing of each comments\n",
    "def average_comments(my_list):\n",
    "    '''\n",
    "    Return the average numbers of comments\n",
    "    '''''\n",
    "    total_comments=0\n",
    "    \n",
    "    for row in my_list:\n",
    "        num_comments=row[4]\n",
    "        num_comments=int(num_comments)\n",
    "        total_comments += num_comments\n",
    "    \n",
    "    avg_comments=total_comments/len(my_list)\n",
    "    \n",
    "    return avg_comments"
   ]
  },
  {
   "cell_type": "code",
   "execution_count": 98,
   "metadata": {},
   "outputs": [
    {
     "name": "stdout",
     "output_type": "stream",
     "text": [
      "10.328622289351602\n"
     ]
    }
   ],
   "source": [
    "#average numbers post for ask posts\n",
    "avg_ask_comments = average_comments(ask_posts)\n",
    "print(avg_ask_comments)"
   ]
  },
  {
   "cell_type": "code",
   "execution_count": 99,
   "metadata": {},
   "outputs": [
    {
     "name": "stdout",
     "output_type": "stream",
     "text": [
      "4.8623996868271675\n"
     ]
    }
   ],
   "source": [
    "#average numbers pot for show posts\n",
    "avg_show_comments = average_comments(show_posts)\n",
    "print(avg_show_comments)"
   ]
  },
  {
   "cell_type": "markdown",
   "metadata": {},
   "source": [
    "=> **Ask HN** posts have 5 comments more than **Show HN* posts**  (10.3 vs 4.86)"
   ]
  },
  {
   "cell_type": "markdown",
   "metadata": {},
   "source": [
    "##### Influence of the time on the number of comments\n",
    "Analysis with the Ask posts\n",
    "does the time of publication matter for the numbers of comments and the number of posts??"
   ]
  },
  {
   "cell_type": "markdown",
   "metadata": {},
   "source": [
    "#### Fixing  format of the date entry\n",
    "\n",
    "The date fortmat is month/day/year and time is 24hours:"
   ]
  },
  {
   "cell_type": "code",
   "execution_count": 100,
   "metadata": {},
   "outputs": [
    {
     "name": "stdout",
     "output_type": "stream",
     "text": [
      "['id', 'title', 'url', 'num_points', 'num_comments', 'author', 'created_at']\n"
     ]
    },
    {
     "data": {
      "text/plain": [
       "'9/6/2015 6:02'"
      ]
     },
     "execution_count": 100,
     "metadata": {},
     "output_type": "execute_result"
    }
   ],
   "source": [
    "print(headers)\n",
    "#the time is the last element of the lists\n",
    "ask_posts[-1][-1]"
   ]
  },
  {
   "cell_type": "code",
   "execution_count": 101,
   "metadata": {},
   "outputs": [],
   "source": [
    "import datetime as dt\n",
    "\n",
    "# list containing [time of publication , n_comments]  for each posts in ask questions\n",
    "result_lists=[] \n",
    "\n",
    "for row in ask_posts:\n",
    "    time=row[6]\n",
    "    n_comments=int(row[4])\n",
    "    post=[time, n_comments]\n",
    "    result_lists.append(post)"
   ]
  },
  {
   "cell_type": "code",
   "execution_count": 102,
   "metadata": {},
   "outputs": [
    {
     "name": "stdout",
     "output_type": "stream",
     "text": [
      "['9/26/2016 2:53', 7]\n",
      "<class 'str'>\n"
     ]
    }
   ],
   "source": [
    "#type date format\n",
    "print(result_lists[0])\n",
    "print(type(result_lists[0][0]))"
   ]
  },
  {
   "cell_type": "markdown",
   "metadata": {},
   "source": [
    "- for the moment, the date is still consider as a string, the datetime.strptime() methods will be employed to format the time and isolates the hour info"
   ]
  },
  {
   "cell_type": "code",
   "execution_count": 103,
   "metadata": {},
   "outputs": [],
   "source": [
    "posts_by_hours={} #number of posts per hour\n",
    "comments_by_hours={} #number of comments per hour\n",
    "\n",
    "for row in result_lists:\n",
    "    time_str=row[0] #isolation of the time info\n",
    "    time_dt=dt.datetime.strptime(time_str,'%m/%d/%Y %H:%M') #formating\n",
    "    hour=time_dt.strftime(\"%H\") #isloation time info\n",
    "\n",
    "    #number of comments\n",
    "    n_comments=row[1]\n",
    "\n",
    "    #number of post per hour\n",
    "    if hour in posts_by_hours:\n",
    "        posts_by_hours[hour] +=1\n",
    "    else:\n",
    "        posts_by_hours[hour]=1\n",
    "\n",
    "    #number of comments per hour\n",
    "    if hour in comments_by_hours:\n",
    "        comments_by_hours[hour] += n_comments\n",
    "    else:\n",
    "        comments_by_hours[hour] = n_comments \n"
   ]
  },
  {
   "cell_type": "code",
   "execution_count": 104,
   "metadata": {
    "scrolled": true
   },
   "outputs": [
    {
     "name": "stdout",
     "output_type": "stream",
     "text": [
      "{'02': 271, '01': 286, '22': 384, '21': 522, '19': 563, '17': 598, '15': 651, '14': 524, '13': 449, '11': 317, '10': 287, '09': 224, '07': 228, '03': 275, '23': 348, '20': 516, '16': 587, '08': 260, '00': 303, '18': 630, '12': 351, '04': 247, '06': 238, '05': 210}\n"
     ]
    }
   ],
   "source": [
    "print(posts_by_hours)"
   ]
  },
  {
   "cell_type": "code",
   "execution_count": 105,
   "metadata": {},
   "outputs": [
    {
     "name": "stdout",
     "output_type": "stream",
     "text": [
      "{'00': 303, '01': 286, '02': 271, '03': 275, '04': 247, '05': 210, '06': 238, '07': 228, '08': 260, '09': 224, '10': 287, '11': 317, '12': 351, '13': 449, '14': 524, '15': 651, '16': 587, '17': 598, '18': 630, '19': 563, '20': 516, '21': 522, '22': 384, '23': 348}\n"
     ]
    }
   ],
   "source": [
    "#sorting n_comment by the hour\n",
    "sorted_posts_by_hours={}\n",
    "for key in sorted(posts_by_hours.keys()):\n",
    "    sorted_posts_by_hours[key]=posts_by_hours[key]\n",
    "\n",
    "print(sorted_posts_by_hours)"
   ]
  },
  {
   "cell_type": "code",
   "execution_count": 132,
   "metadata": {},
   "outputs": [
    {
     "data": {
      "text/plain": [
       "Text(0.5, 0, 'hours')"
      ]
     },
     "execution_count": 132,
     "metadata": {},
     "output_type": "execute_result"
    },
    {
     "data": {
      "image/png": "[encoded data removed]",
      "text/plain": [
       "<Figure size 576x432 with 1 Axes>"
      ]
     },
     "metadata": {
      "needs_background": "light"
     },
     "output_type": "display_data"
    }
   ],
   "source": [
    "#stats\n",
    "mean_posts_by_hours=np.mean(list(sorted_posts_by_hours.values()))\n",
    "std_post_by_hours=np.std(list(sorted_posts_by_hours.values()))\n",
    "\n",
    "#plot n_comments vs hour\n",
    "fig1=plt.figure(figsize=(8,6))\n",
    "plt.bar(sorted_posts_by_hours.keys(),sorted_posts_by_hours.values())\n",
    "plt.bar('15',sorted_posts_by_hours['15'],color='orange',label='time with highest ask posts')\n",
    "plt.axhline(mean_posts_by_hours,\n",
    "            color='darkred',\n",
    "            label='mean posts/hours')\n",
    "\n",
    "plt.legend()\n",
    "plt.title('n ask posts per hours',size=14)\n",
    "plt.ylabel('n_ask_posts',size=12)\n",
    "plt.xlabel('hours',size=12)"
   ]
  },
  {
   "cell_type": "markdown",
   "metadata": {},
   "source": [
    "=>posts are mostly published during the afternoon until evening with a pick between 3pm - 4pm"
   ]
  },
  {
   "cell_type": "code",
   "execution_count": 133,
   "metadata": {},
   "outputs": [
    {
     "data": {
      "text/plain": [
       "<matplotlib.legend.Legend at 0x7fa1614ad650>"
      ]
     },
     "execution_count": 133,
     "metadata": {},
     "output_type": "execute_result"
    },
    {
     "data": {
      "image/png": "[encoded data removed]",
      "text/plain": [
       "<Figure size 576x432 with 1 Axes>"
      ]
     },
     "metadata": {
      "needs_background": "light"
     },
     "output_type": "display_data"
    }
   ],
   "source": [
    "sorted_comments_by_hours={}\n",
    "for key in sorted(comments_by_hours.keys()):\n",
    "    sorted_comments_by_hours[key]=comments_by_hours[key]\n",
    "\n",
    "fig2=plt.figure(figsize=(8,6))\n",
    "\n",
    "mean_comments_by_hours=np.mean(list(sorted_comments_by_hours.values()))\n",
    "plt.bar(sorted_comments_by_hours.keys(),\n",
    "        sorted_comments_by_hours.values())\n",
    "plt.bar(15,sorted_comments_by_hours['15'],\n",
    "        label='hight n_comments/hours')\n",
    "plt.axhline(mean_comments_by_hours,color='darkred',label='average comments')\n",
    "plt.xlabel('hours')\n",
    "plt.ylabel('n_comments')\n",
    "plt.title('n_comments for ask posts by hours')\n",
    "plt.legend()"
   ]
  },
  {
   "cell_type": "markdown",
   "metadata": {},
   "source": [
    "=> posts published between **3 and 4pm** are the one with the highest number of comments. \n",
    "the small increase of number of post (see cell above) at 15 does not explain the steep increase of comments for 15.\n",
    "       \n",
    "=> the hours labeleled are from EST, in Europe is 6 hours more hence the location from the posts or comments was written could be a complentary information\n",
    "\n",
    "the calculation of the **average number of comments per post according to the hours** might help to get a better overview of the trend"
   ]
  },
  {
   "cell_type": "code",
   "execution_count": 108,
   "metadata": {},
   "outputs": [
    {
     "name": "stdout",
     "output_type": "stream",
     "text": [
      "{'00': 7.514851485148514, '01': 7.311188811188811, '02': 11.062730627306273, '03': 7.970909090909091, '04': 9.611336032388664, '05': 8.752380952380953, '06': 6.676470588235294, '07': 6.956140350877193, '08': 9.146153846153846, '09': 6.59375, '10': 10.515679442508711, '11': 8.83596214511041, '12': 12.190883190883191, '13': 16.169265033407573, '14': 9.517175572519085, '15': 28.456221198156683, '16': 7.846678023850085, '17': 9.41304347826087, '18': 7.750793650793651, '19': 7.351687388987567, '20': 8.662790697674419, '21': 8.620689655172415, '22': 8.78125, '23': 7.089080459770115}\n"
     ]
    }
   ],
   "source": [
    "# n_comments_by_hours/n_posts_by_hours\n",
    "avg_by_hour={}\n",
    "for hour in sorted_comments_by_hours:\n",
    "    \n",
    "    average = sorted_comments_by_hours[hour] / sorted_posts_by_hours[hour]\n",
    "    avg_by_hour[hour]=average\n",
    "print(avg_by_hour)"
   ]
  },
  {
   "cell_type": "code",
   "execution_count": 134,
   "metadata": {},
   "outputs": [
    {
     "data": {
      "text/plain": [
       "Text(0, 0.5, 'mean comments/ask HN post')"
      ]
     },
     "execution_count": 134,
     "metadata": {},
     "output_type": "execute_result"
    },
    {
     "data": {
      "image/png": "[encoded data removed]",
      "text/plain": [
       "<Figure size 576x432 with 1 Axes>"
      ]
     },
     "metadata": {
      "needs_background": "light"
     },
     "output_type": "display_data"
    }
   ],
   "source": [
    "fig3=plt.figure(figsize=(8,6))\n",
    "plt.bar(avg_by_hour.keys(),avg_by_hour.values())\n",
    "plt.bar(15,avg_by_hour['15'],color='orange', label='hightest comments/ ask HN post')\n",
    "plt.title('mean comments/ask HN post (EST TIME ZONE)',size=14)\n",
    "plt.xlabel('hours',size=12)\n",
    "plt.ylabel('mean comments/ask HN post',size=12)"
   ]
  },
  {
   "cell_type": "code",
   "execution_count": 110,
   "metadata": {},
   "outputs": [],
   "source": [
    "#transforming to european time\n",
    "europe_hours=[]\n",
    "hours=list(avg_by_hour)\n",
    "for hour in hours:\n",
    "    hour=dt.datetime.strptime(hour,'%H')\n",
    "    hours_added = dt.timedelta(hours = 6)\n",
    "    \n",
    "    europe_time = hour + hours_added\n",
    "    europe_hours.append(europe_time.strftime('%H')) #can also be done with europe_time.hour"
   ]
  },
  {
   "cell_type": "code",
   "execution_count": 137,
   "metadata": {},
   "outputs": [
    {
     "data": {
      "text/plain": [
       "Text(0, 0.5, 'mean comments/ask HN post')"
      ]
     },
     "execution_count": 137,
     "metadata": {},
     "output_type": "execute_result"
    },
    {
     "data": {
      "image/png": "[encoded data removed]",
      "text/plain": [
       "<Figure size 576x432 with 1 Axes>"
      ]
     },
     "metadata": {
      "needs_background": "light"
     },
     "output_type": "display_data"
    }
   ],
   "source": [
    "#repolot with for europe time (+6 hours)\n",
    "\n",
    "fig4=plt.figure(figsize=(8,6))\n",
    "plt.bar(europe_hours,avg_by_hour.values())\n",
    "plt.bar(15,avg_by_hour['15'],color='orange', label='hightest comments/ ask HN post')\n",
    "plt.title('mean comments/ask HN post (EUROPE TIME)',size=14)\n",
    "plt.xlabel('hours',size=12)\n",
    "plt.ylabel('mean comments/ask HN post',size=12)"
   ]
  },
  {
   "cell_type": "markdown",
   "metadata": {},
   "source": [
    "=> to get the most number of comments on your post, better to post between 21:00 - 22:00 then 19:00 - 20:00"
   ]
  },
  {
   "cell_type": "markdown",
   "metadata": {},
   "source": [
    "### same work with show HN posts"
   ]
  },
  {
   "cell_type": "code",
   "execution_count": 112,
   "metadata": {},
   "outputs": [
    {
     "data": {
      "text/plain": [
       "['id', 'title', 'url', 'num_points', 'num_comments', 'author', 'created_at']"
      ]
     },
     "execution_count": 112,
     "metadata": {},
     "output_type": "execute_result"
    }
   ],
   "source": [
    "headers"
   ]
  },
  {
   "cell_type": "code",
   "execution_count": 113,
   "metadata": {},
   "outputs": [
    {
     "name": "stdout",
     "output_type": "stream",
     "text": [
      "<class 'str'>\n",
      "<class 'str'>\n",
      "<class 'str'>\n",
      "<class 'str'>\n",
      "<class 'str'>\n",
      "<class 'str'>\n",
      "<class 'str'>\n"
     ]
    }
   ],
   "source": [
    "for row in show_posts[0]:\n",
    "    print(type(row))"
   ]
  },
  {
   "cell_type": "code",
   "execution_count": 114,
   "metadata": {},
   "outputs": [],
   "source": [
    "#fixing datetime\n",
    "\n",
    "for row in show_posts:\n",
    "    #id\n",
    "    row[0]=int(row[0])\n",
    "    #points\n",
    "    row[3]=int(row[3])\n",
    "    #comments\n",
    "    row[4]=int(row[4])\n",
    "    #time\n",
    "    row[-1]=dt.datetime.strptime(row[-1],'%m/%d/%Y %H:%M')"
   ]
  },
  {
   "cell_type": "code",
   "execution_count": 128,
   "metadata": {},
   "outputs": [],
   "source": [
    "#number of show HN posts by hours \n",
    "show_post_fr={}\n",
    "for row in show_posts:\n",
    "    hour=row[-1].strftime('%H')\n",
    "    if hour in show_post_fr:\n",
    "        show_post_fr[hour] += 1\n",
    "    else:\n",
    "        show_post_fr[hour] = 1"
   ]
  },
  {
   "cell_type": "code",
   "execution_count": 129,
   "metadata": {},
   "outputs": [],
   "source": [
    "sorted_show_post_fr={}\n",
    "for key in sorted(show_post_fr.keys()):\n",
    "    sorted_show_post_fr[key] = show_post_fr[key]"
   ]
  },
  {
   "cell_type": "code",
   "execution_count": 139,
   "metadata": {},
   "outputs": [
    {
     "data": {
      "text/plain": [
       "<matplotlib.lines.Line2D at 0x7fa171bf4590>"
      ]
     },
     "execution_count": 139,
     "metadata": {},
     "output_type": "execute_result"
    },
    {
     "data": {
      "image/png": "[encoded data removed]",
      "text/plain": [
       "<Figure size 576x432 with 1 Axes>"
      ]
     },
     "metadata": {
      "needs_background": "light"
     },
     "output_type": "display_data"
    }
   ],
   "source": [
    "fig5=plt.figure(figsize=(8,6))\n",
    "plt.bar(sorted_show_post_fr.keys(),sorted_show_post_fr.values())\n",
    "plt.axhline(np.mean(list(sorted_show_post_fr.values())))"
   ]
  },
  {
   "cell_type": "code",
   "execution_count": 138,
   "metadata": {},
   "outputs": [
    {
     "data": {
      "image/png": "[encoded data removed]",
      "text/plain": [
       "<Figure size 576x432 with 1 Axes>"
      ]
     },
     "execution_count": 138,
     "metadata": {},
     "output_type": "execute_result"
    }
   ],
   "source": [
    "fig1"
   ]
  },
  {
   "cell_type": "markdown",
   "metadata": {},
   "source": [
    "## going further: \n",
    "Determine if show or ask posts receive more points on average.\n",
    "Determine if posts created at a certain time are more likely to receive more points.\n",
    "Compare your results to the average number of comments and points other posts receive.\n"
   ]
  },
  {
   "cell_type": "code",
   "execution_count": null,
   "metadata": {},
   "outputs": [],
   "source": [
    "headers"
   ]
  },
  {
   "cell_type": "code",
   "execution_count": null,
   "metadata": {},
   "outputs": [],
   "source": []
  },
  {
   "cell_type": "code",
   "execution_count": null,
   "metadata": {},
   "outputs": [],
   "source": []
  },
  {
   "cell_type": "code",
   "execution_count": null,
   "metadata": {},
   "outputs": [],
   "source": []
  },
  {
   "cell_type": "markdown",
   "metadata": {},
   "source": [
    "### number of authors\n",
    "\n",
    "interesting to know the ratio post/authors to see if only a few write a lot of posts"
   ]
  },
  {
   "cell_type": "code",
   "execution_count": null,
   "metadata": {},
   "outputs": [],
   "source": [
    "import pandas as pd"
   ]
  },
  {
   "cell_type": "code",
   "execution_count": null,
   "metadata": {},
   "outputs": [],
   "source": [
    "df = pd.read_csv('HN_posts_year_to_Sep_26_2016.csv')"
   ]
  },
  {
   "cell_type": "code",
   "execution_count": null,
   "metadata": {},
   "outputs": [],
   "source": [
    "df.columns"
   ]
  },
  {
   "cell_type": "code",
   "execution_count": null,
   "metadata": {},
   "outputs": [],
   "source": [
    "df['title']=df['title'].str.lower()"
   ]
  },
  {
   "cell_type": "code",
   "execution_count": null,
   "metadata": {},
   "outputs": [],
   "source": [
    "#select all post starting with show \n",
    "df.loc[df['title'].str.startswith('show')]"
   ]
  },
  {
   "cell_type": "code",
   "execution_count": null,
   "metadata": {},
   "outputs": [],
   "source": [
    "#select all posts starting with \"ask\"\n",
    "df.loc[df['title'].str.startswith('ask')]"
   ]
  },
  {
   "cell_type": "code",
   "execution_count": null,
   "metadata": {},
   "outputs": [],
   "source": []
  }
 ],
 "metadata": {
  "kernelspec": {
   "display_name": "Python 3",
   "language": "python",
   "name": "python3"
  },
  "language_info": {
   "codemirror_mode": {
    "name": "ipython",
    "version": 3
   },
   "file_extension": ".py",
   "mimetype": "text/x-python",
   "name": "python",
   "nbconvert_exporter": "python",
   "pygments_lexer": "ipython3",
   "version": "3.7.6"
  }
 },
 "nbformat": 4,
 "nbformat_minor": 4
}
