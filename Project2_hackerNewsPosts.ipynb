{
 "cells": [
  {
   "cell_type": "markdown",
   "metadata": {},
   "source": [
    "## Hacker News Posts project\n",
    "- the dataset emcompasses post from Reddit, a website where users submit and comment posts\n",
    "- the project focus on taking a closer look at\n",
    "    - the post where the user ask a question to the website Hacker News: **Ask HN**. \n",
    "    - the the posts where the user show a project to the website Hacker News: **Show HN**\n",
    "\n",
    "**The questions:**\n",
    "- *out of the 2, what type gets more comments on average?* \n",
    "- *does the time of the post influences the number of comments in average?*\n",
    "\n",
    "\n",
    "\n",
    "#### The analyse was done first with only **Python** and then using Pandas"
   ]
  },
  {
   "cell_type": "markdown",
   "metadata": {},
   "source": [
    "### 1. import database\n",
    "The database is imported as a list"
   ]
  },
  {
   "cell_type": "code",
   "execution_count": 1,
   "metadata": {},
   "outputs": [],
   "source": [
    "from csv import reader\n",
    "import matplotlib.pyplot as plt\n",
    "import numpy as np"
   ]
  },
  {
   "cell_type": "code",
   "execution_count": 2,
   "metadata": {},
   "outputs": [],
   "source": [
    "file=open('HN_posts_year_to_Sep_26_2016.csv', encoding='utf-8')\n",
    "read_file=reader(file)\n",
    "hn=list(read_file)"
   ]
  },
  {
   "cell_type": "code",
   "execution_count": 3,
   "metadata": {},
   "outputs": [
    {
     "data": {
      "text/plain": [
       "['id', 'title', 'url', 'num_points', 'num_comments', 'author', 'created_at']"
      ]
     },
     "execution_count": 3,
     "metadata": {},
     "output_type": "execute_result"
    }
   ],
   "source": [
    "#headers\n",
    "hn[0]"
   ]
  },
  {
   "cell_type": "code",
   "execution_count": 4,
   "metadata": {},
   "outputs": [],
   "source": [
    "headers=hn[0] #extract headers\n",
    "hn=hn[1:] #remove headers from dataset"
   ]
  },
  {
   "cell_type": "code",
   "execution_count": 5,
   "metadata": {},
   "outputs": [
    {
     "name": "stdout",
     "output_type": "stream",
     "text": [
      "['12579008', 'You have two days to comment if you want stem cells to be classified as your own', 'http://www.regulations.gov/document?D=FDA-2015-D-3719-0018', '1', '0', 'altstar', '9/26/2016 3:26']\n"
     ]
    }
   ],
   "source": [
    "#observe the first data entry \n",
    "print(hn[0])"
   ]
  },
  {
   "cell_type": "code",
   "execution_count": 6,
   "metadata": {},
   "outputs": [
    {
     "data": {
      "text/plain": [
       "293119"
      ]
     },
     "execution_count": 6,
     "metadata": {},
     "output_type": "execute_result"
    }
   ],
   "source": [
    "len(hn)"
   ]
  },
  {
   "cell_type": "markdown",
   "metadata": {},
   "source": [
    "### 2. splitting of  the post starting  with either **Ask HN** or **Show HN**  "
   ]
  },
  {
   "cell_type": "code",
   "execution_count": 7,
   "metadata": {
    "scrolled": true
   },
   "outputs": [
    {
     "name": "stdout",
     "output_type": "stream",
     "text": [
      "there are 293119 posts in total\n",
      "there are 9269 ask posts\n",
      "there are 10218 show posts\n",
      "other posts 273632\n",
      "293119\n"
     ]
    }
   ],
   "source": [
    "ask_posts = []\n",
    "show_posts = []\n",
    "other_posts = []\n",
    "\n",
    "for row in hn:\n",
    "    title=row[1]\n",
    "    title=title.lower()\n",
    "    if title.startswith('ask'):\n",
    "        ask_posts.append(row)\n",
    "    elif title.startswith('show'):\n",
    "        show_posts.append(row)\n",
    "    else:\n",
    "        other_posts.append(row)\n",
    "print(f\"there are {len(hn)} posts in total\")\n",
    "print(f\"there are {len(ask_posts)} ask posts\")\n",
    "print(f\"there are {len(show_posts)} show posts\")\n",
    "print(f\"other posts {len(other_posts)}\")\n",
    "print(len(ask_posts+show_posts+other_posts))"
   ]
  },
  {
   "cell_type": "code",
   "execution_count": 134,
   "metadata": {},
   "outputs": [
    {
     "data": {
      "image/png": "[encoded data removed]",
      "text/plain": [
       "<Figure size 432x288 with 1 Axes>"
      ]
     },
     "metadata": {
      "needs_background": "light"
     },
     "output_type": "display_data"
    }
   ],
   "source": [
    "#show with a graph\n",
    "bar_chart=[]\n",
    "for element in [ask_posts, show_posts,other_posts]:\n",
    "    bar_chart.append(len(element)/len(hn)*100)\n",
    "    \n",
    "label=['ask_posts', 'show_posts','other_posts']\n",
    "#plot number of post \n",
    "plt.figure()\n",
    "plt.bar(label,bar_chart)\n",
    "plt.title('% type of posts in dataset',size=14)\n",
    "plt.xlabel('Post type',size=12)\n",
    "plt.ylabel('% of the post',size=12) \n",
    "\n",
    "plt.savefig('0_kind_of_posts.jpg')\n"
   ]
  },
  {
   "cell_type": "markdown",
   "metadata": {},
   "source": [
    "#### remarks:\n",
    "We have well split the show/ask posts the rest of the dataset but they represent only a fraction of it."
   ]
  },
  {
   "cell_type": "markdown",
   "metadata": {},
   "source": [
    "###  1. Average comments  per Show or Ask posts"
   ]
  },
  {
   "cell_type": "markdown",
   "metadata": {},
   "source": [
    "what type of post get the max average number of posts?"
   ]
  },
  {
   "cell_type": "code",
   "execution_count": 9,
   "metadata": {},
   "outputs": [],
   "source": [
    "#loop into each respective dataset and summing of each comments\n",
    "def average_comments(my_list):\n",
    "    '''\n",
    "    Return the average numbers of comments\n",
    "    '''\n",
    "    total_comments=0\n",
    "    \n",
    "    for row in my_list:\n",
    "        num_comments=row[4]\n",
    "        num_comments=int(num_comments)\n",
    "        total_comments += num_comments\n",
    "    \n",
    "    avg_comments=total_comments/len(my_list)\n",
    "    \n",
    "    return avg_comments"
   ]
  },
  {
   "cell_type": "code",
   "execution_count": 10,
   "metadata": {},
   "outputs": [
    {
     "name": "stdout",
     "output_type": "stream",
     "text": [
      "10.328622289351602\n"
     ]
    }
   ],
   "source": [
    "#average numbers post for ask posts\n",
    "avg_ask_comments = average_comments(ask_posts)\n",
    "print(avg_ask_comments)"
   ]
  },
  {
   "cell_type": "code",
   "execution_count": 11,
   "metadata": {},
   "outputs": [
    {
     "name": "stdout",
     "output_type": "stream",
     "text": [
      "4.8623996868271675\n"
     ]
    }
   ],
   "source": [
    "#average numbers pot for show posts\n",
    "avg_show_comments = average_comments(show_posts)\n",
    "print(avg_show_comments)"
   ]
  },
  {
   "cell_type": "markdown",
   "metadata": {},
   "source": [
    "=> **Ask HN** posts have 5 comments more than **Show HN* posts**  (10.3 vs 4.86)"
   ]
  },
  {
   "cell_type": "markdown",
   "metadata": {},
   "source": [
    "### 2. Time of publication vs number of comments\n",
    "#### 2.1 time vs #comments or #posts: Ask HN posts"
   ]
  },
  {
   "cell_type": "markdown",
   "metadata": {},
   "source": [
    "=> Fixing  format of the date entry\n",
    "\n",
    "The date fortmat is month/day/year and time is 24 hours:"
   ]
  },
  {
   "cell_type": "code",
   "execution_count": 12,
   "metadata": {},
   "outputs": [
    {
     "name": "stdout",
     "output_type": "stream",
     "text": [
      "['id', 'title', 'url', 'num_points', 'num_comments', 'author', 'created_at']\n"
     ]
    },
    {
     "data": {
      "text/plain": [
       "'9/6/2015 6:02'"
      ]
     },
     "execution_count": 12,
     "metadata": {},
     "output_type": "execute_result"
    }
   ],
   "source": [
    "print(headers)\n",
    "#the time is the last element of the lists\n",
    "ask_posts[-1][-1]"
   ]
  },
  {
   "cell_type": "code",
   "execution_count": 13,
   "metadata": {},
   "outputs": [],
   "source": [
    "import datetime as dt\n",
    "\n",
    "# list containing [time of publication , n_comments]  for each posts in ask questions\n",
    "result_lists=[] \n",
    "\n",
    "for row in ask_posts:\n",
    "    time=row[6]\n",
    "    n_comments=int(row[4])\n",
    "    post=[time, n_comments]\n",
    "    result_lists.append(post)"
   ]
  },
  {
   "cell_type": "code",
   "execution_count": 14,
   "metadata": {},
   "outputs": [
    {
     "name": "stdout",
     "output_type": "stream",
     "text": [
      "['9/26/2016 2:53', 7]\n",
      "<class 'str'>\n"
     ]
    }
   ],
   "source": [
    "#type date format\n",
    "print(result_lists[0])\n",
    "print(type(result_lists[0][0]))"
   ]
  },
  {
   "cell_type": "markdown",
   "metadata": {},
   "source": [
    "=> at the moment, the date is still consider as a string, the datetime.strptime() methods will be employed to format the time and isolates the hour info"
   ]
  },
  {
   "cell_type": "code",
   "execution_count": 135,
   "metadata": {},
   "outputs": [],
   "source": [
    "posts_by_hours={} #number of posts per hour\n",
    "comments_by_hours={} #number of comments per hour\n",
    "\n",
    "for row in result_lists:\n",
    "    time_str=row[0] #isolation of the time info\n",
    "    time_dt=dt.datetime.strptime(time_str,'%m/%d/%Y %H:%M') #formating\n",
    "    hour=time_dt.strftime(\"%H\") #isloation time info\n",
    "\n",
    "    #number of comments\n",
    "    n_comments=row[1]\n",
    "\n",
    "    #number of post per hour\n",
    "    if hour in posts_by_hours:\n",
    "        posts_by_hours[hour] +=1\n",
    "    else:\n",
    "        posts_by_hours[hour]=1\n",
    "\n",
    "    #number of comments per hour\n",
    "    if hour in comments_by_hours:\n",
    "        comments_by_hours[hour] += n_comments\n",
    "    else:\n",
    "        comments_by_hours[hour] = n_comments "
   ]
  },
  {
   "cell_type": "code",
   "execution_count": 16,
   "metadata": {},
   "outputs": [
    {
     "name": "stdout",
     "output_type": "stream",
     "text": [
      "{'00': 303, '01': 286, '02': 271, '03': 275, '04': 247, '05': 210, '06': 238, '07': 228, '08': 260, '09': 224, '10': 287, '11': 317, '12': 351, '13': 449, '14': 524, '15': 651, '16': 587, '17': 598, '18': 630, '19': 563, '20': 516, '21': 522, '22': 384, '23': 348}\n"
     ]
    }
   ],
   "source": [
    "#sorting n_comment by chronological hour\n",
    "sorted_posts_by_hours={}\n",
    "for key in sorted(posts_by_hours.keys()):\n",
    "    sorted_posts_by_hours[key]=posts_by_hours[key]\n",
    "\n",
    "print(sorted_posts_by_hours)"
   ]
  },
  {
   "cell_type": "code",
   "execution_count": 17,
   "metadata": {},
   "outputs": [
    {
     "data": {
      "text/plain": [
       "Text(0.5, 0, 'hours')"
      ]
     },
     "execution_count": 17,
     "metadata": {},
     "output_type": "execute_result"
    },
    {
     "data": {
      "image/png": "[encoded data removed]",
      "text/plain": [
       "<Figure size 576x432 with 1 Axes>"
      ]
     },
     "metadata": {
      "needs_background": "light"
     },
     "output_type": "display_data"
    }
   ],
   "source": [
    "#stats\n",
    "mean_posts_by_hours=np.mean(list(sorted_posts_by_hours.values()))\n",
    "std_post_by_hours=np.std(list(sorted_posts_by_hours.values()))\n",
    "\n",
    "#plot n_comments vs hour\n",
    "fig1=plt.figure(figsize=(8,6))\n",
    "plt.bar(sorted_posts_by_hours.keys(),sorted_posts_by_hours.values())\n",
    "plt.bar('15',sorted_posts_by_hours['15'],color='orange',label='time with highest ask posts')\n",
    "plt.axhline(mean_posts_by_hours,\n",
    "            color='darkred',\n",
    "            label='mean posts/hours')\n",
    "\n",
    "plt.legend()\n",
    "plt.title('n ask posts per hours',size=14)\n",
    "plt.ylabel('n_ask_posts',size=12)\n",
    "plt.xlabel('hours',size=12)\n",
    "\n",
    "plt"
   ]
  },
  {
   "cell_type": "markdown",
   "metadata": {},
   "source": [
    "=>posts are mostly published during the afternoon until evening with a pick between 3pm - 4pm"
   ]
  },
  {
   "cell_type": "code",
   "execution_count": 18,
   "metadata": {},
   "outputs": [
    {
     "data": {
      "text/plain": [
       "<matplotlib.legend.Legend at 0x7fdf1e2cef10>"
      ]
     },
     "execution_count": 18,
     "metadata": {},
     "output_type": "execute_result"
    },
    {
     "data": {
      "image/png": "[encoded data removed]",
      "text/plain": [
       "<Figure size 576x432 with 1 Axes>"
      ]
     },
     "metadata": {
      "needs_background": "light"
     },
     "output_type": "display_data"
    }
   ],
   "source": [
    "sorted_comments_by_hours={}\n",
    "for key in sorted(comments_by_hours.keys()):\n",
    "    sorted_comments_by_hours[key]=comments_by_hours[key]\n",
    "\n",
    "fig2=plt.figure(figsize=(8,6))\n",
    "\n",
    "mean_comments_by_hours=np.mean(list(sorted_comments_by_hours.values()))\n",
    "median_comments_by_hours=np.median(list(sorted_comments_by_hours.values()))\n",
    "\n",
    "plt.bar(sorted_comments_by_hours.keys(),\n",
    "        sorted_comments_by_hours.values())\n",
    "\n",
    "plt.bar(15,sorted_comments_by_hours['15'],\n",
    "        label='hight n_comments/hours')\n",
    "\n",
    "plt.axhline(mean_comments_by_hours,color='darkred',label='average comments')\n",
    "plt.axhline(median_comments_by_hours,color='green',label='median comments')\n",
    "\n",
    "plt.xlabel('hours',size=12)\n",
    "plt.ylabel('n_comments',size=12)\n",
    "plt.title('n_comments for ask posts by hours',size=14)\n",
    "plt.legend()"
   ]
  },
  {
   "cell_type": "markdown",
   "metadata": {},
   "source": [
    "=> posts published between **3 and 4pm** are the one with the highest number of comments. \n",
    "the small increase of number of post (see cell above) at 15 does not explain the steep increase of comments for 15.\n",
    "       \n",
    "=> the hours labeleled are from EST, in Europe is 6 hours more hence the location from the posts or comments was written could be a complentary information\n",
    "\n",
    "the calculation of the **average number of comments per post according to the hours** might help to get a better overview of the trend"
   ]
  },
  {
   "cell_type": "markdown",
   "metadata": {},
   "source": [
    "**Average # comments per posts/ hours for Ask HN posts**"
   ]
  },
  {
   "cell_type": "code",
   "execution_count": 19,
   "metadata": {},
   "outputs": [
    {
     "name": "stdout",
     "output_type": "stream",
     "text": [
      "{'00': 7.514851485148514, '01': 7.311188811188811, '02': 11.062730627306273, '03': 7.970909090909091, '04': 9.611336032388664, '05': 8.752380952380953, '06': 6.676470588235294, '07': 6.956140350877193, '08': 9.146153846153846, '09': 6.59375, '10': 10.515679442508711, '11': 8.83596214511041, '12': 12.190883190883191, '13': 16.169265033407573, '14': 9.517175572519085, '15': 28.456221198156683, '16': 7.846678023850085, '17': 9.41304347826087, '18': 7.750793650793651, '19': 7.351687388987567, '20': 8.662790697674419, '21': 8.620689655172415, '22': 8.78125, '23': 7.089080459770115}\n"
     ]
    }
   ],
   "source": [
    "# n_comments_by_hours/n_posts_by_hours\n",
    "avg_by_hour={}\n",
    "for hour in sorted_comments_by_hours:\n",
    "    \n",
    "    average = sorted_comments_by_hours[hour] / sorted_posts_by_hours[hour]\n",
    "    avg_by_hour[hour]=average\n",
    "print(avg_by_hour)"
   ]
  },
  {
   "cell_type": "code",
   "execution_count": 20,
   "metadata": {},
   "outputs": [
    {
     "data": {
      "text/plain": [
       "Text(0, 0.5, 'mean comments/ask HN post')"
      ]
     },
     "execution_count": 20,
     "metadata": {},
     "output_type": "execute_result"
    },
    {
     "data": {
      "image/png": "[encoded data removed]",
      "text/plain": [
       "<Figure size 576x432 with 1 Axes>"
      ]
     },
     "metadata": {
      "needs_background": "light"
     },
     "output_type": "display_data"
    }
   ],
   "source": [
    "fig3=plt.figure(figsize=(8,6))\n",
    "plt.bar(avg_by_hour.keys(),avg_by_hour.values())\n",
    "plt.bar(15,avg_by_hour['15'],\n",
    "        color='red',\n",
    "        label='hightest comments/ ask HN post')\n",
    "plt.title('mean comments/ask HN post (EST TIME ZONE)',size=14)\n",
    "plt.xlabel('hours',size=12)\n",
    "plt.ylabel('mean comments/ask HN post',size=12)"
   ]
  },
  {
   "cell_type": "code",
   "execution_count": 21,
   "metadata": {},
   "outputs": [],
   "source": [
    "#transforming to european time\n",
    "europe_hours=[]\n",
    "hours=list(avg_by_hour)\n",
    "for hour in hours:\n",
    "    hour=dt.datetime.strptime(hour,'%H')\n",
    "    hours_added = dt.timedelta(hours = 6)\n",
    "    \n",
    "    europe_time = hour + hours_added\n",
    "    europe_hours.append(europe_time.strftime('%H')) #can also be done with europe_time.hour"
   ]
  },
  {
   "cell_type": "code",
   "execution_count": 22,
   "metadata": {},
   "outputs": [
    {
     "data": {
      "text/plain": [
       "Text(0, 0.5, 'mean comments/ask HN post')"
      ]
     },
     "execution_count": 22,
     "metadata": {},
     "output_type": "execute_result"
    },
    {
     "data": {
      "image/png": "[encoded data removed]",
      "text/plain": [
       "<Figure size 576x432 with 1 Axes>"
      ]
     },
     "metadata": {
      "needs_background": "light"
     },
     "output_type": "display_data"
    }
   ],
   "source": [
    "#repolot with for europe time (+6 hours)\n",
    "\n",
    "fig4=plt.figure(figsize=(8,6))\n",
    "plt.bar(europe_hours,avg_by_hour.values())\n",
    "plt.bar(15,avg_by_hour['15'],color='red', label='hightest comments/ ask HN post')\n",
    "plt.title('mean comments/ask HN post (EUROPE TIME)',size=14)\n",
    "plt.xlabel('hours',size=12)\n",
    "plt.ylabel('mean comments/ask HN post',size=12)"
   ]
  },
  {
   "cell_type": "markdown",
   "metadata": {},
   "source": [
    "=> to get the most number of comments on your post, better to post between 21:00 - 22:00 then 19:00 - 20:00"
   ]
  },
  {
   "cell_type": "markdown",
   "metadata": {},
   "source": [
    "#### 2.2 same work with show HN posts"
   ]
  },
  {
   "cell_type": "markdown",
   "metadata": {},
   "source": [
    "**fixing type**"
   ]
  },
  {
   "cell_type": "code",
   "execution_count": 23,
   "metadata": {},
   "outputs": [
    {
     "data": {
      "text/plain": [
       "['id', 'title', 'url', 'num_points', 'num_comments', 'author', 'created_at']"
      ]
     },
     "execution_count": 23,
     "metadata": {},
     "output_type": "execute_result"
    }
   ],
   "source": [
    "headers"
   ]
  },
  {
   "cell_type": "code",
   "execution_count": 24,
   "metadata": {},
   "outputs": [
    {
     "name": "stdout",
     "output_type": "stream",
     "text": [
      "<class 'str'>\n",
      "<class 'str'>\n",
      "<class 'str'>\n",
      "<class 'str'>\n",
      "<class 'str'>\n",
      "<class 'str'>\n",
      "<class 'str'>\n"
     ]
    }
   ],
   "source": [
    "for row in show_posts[0]:\n",
    "    print(type(row))"
   ]
  },
  {
   "cell_type": "code",
   "execution_count": 25,
   "metadata": {},
   "outputs": [],
   "source": [
    "#fixing type\n",
    "\n",
    "for row in show_posts:\n",
    "    #id\n",
    "    row[0]=int(row[0])\n",
    "    #points\n",
    "    row[3]=int(row[3])\n",
    "    #comments\n",
    "    row[4]=int(row[4])\n",
    "    #time\n",
    "    row[-1]=dt.datetime.strptime(row[-1],'%m/%d/%Y %H:%M')"
   ]
  },
  {
   "cell_type": "markdown",
   "metadata": {},
   "source": [
    "**Show HN post per hours**"
   ]
  },
  {
   "cell_type": "code",
   "execution_count": 26,
   "metadata": {},
   "outputs": [],
   "source": [
    "#number of show HN posts by hours \n",
    "\n",
    "show_post_fr={}\n",
    "for row in show_posts:\n",
    "    hour=row[-1].strftime('%H')\n",
    "    if hour in show_post_fr:\n",
    "        show_post_fr[hour] += 1\n",
    "    else:\n",
    "        show_post_fr[hour] = 1\n",
    "        \n",
    "#sorted dictionnary by chronological order\n",
    "sorted_show_post_fr={}\n",
    "for key in sorted(show_post_fr.keys()):\n",
    "    sorted_show_post_fr[key] = show_post_fr[key]"
   ]
  },
  {
   "cell_type": "code",
   "execution_count": 27,
   "metadata": {},
   "outputs": [
    {
     "data": {
      "text/plain": [
       "<matplotlib.legend.Legend at 0x7fdf1d5c41d0>"
      ]
     },
     "execution_count": 27,
     "metadata": {},
     "output_type": "execute_result"
    },
    {
     "data": {
      "image/png": "[encoded data removed]",
      "text/plain": [
       "<Figure size 576x432 with 1 Axes>"
      ]
     },
     "metadata": {
      "needs_background": "light"
     },
     "output_type": "display_data"
    }
   ],
   "source": [
    "#plot \n",
    "fig5=plt.figure(figsize=(8,6))\n",
    "\n",
    "plt.bar(sorted_show_post_fr.keys(),sorted_show_post_fr.values())\n",
    "plt.bar(15, sorted_show_post_fr['15'],\n",
    "       color='orange',\n",
    "       label='hour w/ highest Show posts')\n",
    "\n",
    "plt.axhline(np.mean(list(sorted_show_post_fr.values())),\n",
    "           color='red',\n",
    "           label='average')\n",
    "plt.xlabel('hours',size=12)\n",
    "plt.ylabel('n comments',size=12)\n",
    "plt.title('n Show posts per hours',size=14)\n",
    "\n",
    "plt.legend()"
   ]
  },
  {
   "cell_type": "markdown",
   "metadata": {},
   "source": [
    "**comments per hours for Show HN posts**"
   ]
  },
  {
   "cell_type": "code",
   "execution_count": 28,
   "metadata": {},
   "outputs": [],
   "source": [
    "#computing of comments per hours \n",
    "show_posts_n_comments={}\n",
    "for row in show_posts:\n",
    "    #isolate hour info\n",
    "    hour=row[-1].strftime('%H')\n",
    "    n_comments=row[4]\n",
    "    if hour in show_posts_n_comments:\n",
    "        show_posts_n_comments[hour] = show_posts_n_comments[hour]+n_comments\n",
    "    else:\n",
    "        show_posts_n_comments[hour] = n_comments\n",
    "\n",
    "sorted_show_post_n_comments={}\n",
    "for key in sorted(show_posts_n_comments.keys()):\n",
    "    sorted_show_post_n_comments[key] = show_posts_n_comments[key]"
   ]
  },
  {
   "cell_type": "code",
   "execution_count": 29,
   "metadata": {},
   "outputs": [
    {
     "data": {
      "text/plain": [
       "<matplotlib.legend.Legend at 0x7fdf1c89c950>"
      ]
     },
     "execution_count": 29,
     "metadata": {},
     "output_type": "execute_result"
    },
    {
     "data": {
      "image/png": "[encoded data removed]",
      "text/plain": [
       "<Figure size 576x432 with 1 Axes>"
      ]
     },
     "metadata": {
      "needs_background": "light"
     },
     "output_type": "display_data"
    }
   ],
   "source": [
    "#plotting\n",
    "fig6=plt.figure(figsize=(8,6))\n",
    "\n",
    "plt.bar(sorted_show_post_n_comments.keys(),sorted_show_post_n_comments.values())\n",
    "plt.axhline(np.mean(list(sorted_show_post_n_comments.values())),color='darkred',label='average comments')\n",
    "plt.axhline(np.median(list(sorted_show_post_n_comments.values())),color='green',label='median comments')\n",
    "\n",
    "plt.title('n_comments for Show HN posts / hours',size=14)\n",
    "plt.xlabel('hours', size=12)\n",
    "plt.ylabel('# comments',size=12)\n",
    "plt.legend()\n"
   ]
  },
  {
   "cell_type": "markdown",
   "metadata": {},
   "source": [
    " **comments/ Shown HN posts / hours**"
   ]
  },
  {
   "cell_type": "code",
   "execution_count": 30,
   "metadata": {},
   "outputs": [],
   "source": [
    "average_comments_shown_post={}\n",
    "for hour in hours:\n",
    "    temp=sorted_show_post_n_comments[hour] / sorted_show_post_fr[hour]\n",
    "    average_comments_shown_post[hour] = temp"
   ]
  },
  {
   "cell_type": "code",
   "execution_count": 31,
   "metadata": {},
   "outputs": [
    {
     "data": {
      "text/plain": [
       "<matplotlib.legend.Legend at 0x7fdf1b7109d0>"
      ]
     },
     "execution_count": 31,
     "metadata": {},
     "output_type": "execute_result"
    },
    {
     "data": {
      "image/png": "[encoded data removed]",
      "text/plain": [
       "<Figure size 576x432 with 1 Axes>"
      ]
     },
     "metadata": {
      "needs_background": "light"
     },
     "output_type": "display_data"
    }
   ],
   "source": [
    "#plot\n",
    "\n",
    "fig7=plt.figure(figsize=(8,6))\n",
    "plt.bar(average_comments_shown_post.keys(),average_comments_shown_post.values())\n",
    "\n",
    "plt.axhline(np.mean(list(average_comments_shown_post.values())),color='darkred',label='average comments/show hn posts')\n",
    "plt.axhline(np.median(list(average_comments_shown_post.values())),color='green',label='median comments/show hn posts')\n",
    "\n",
    "plt.title('average comments per Show HN posts',size=14)\n",
    "plt.xlabel('hours', size=12)\n",
    "plt.ylabel('average comments per posts',size=12)\n",
    "plt.legend()"
   ]
  },
  {
   "cell_type": "markdown",
   "metadata": {},
   "source": [
    "## going further: \n",
    "Determine if show or ask posts receive more points on average.\n",
    "Determine if posts created at a certain time are more likely to receive more points.\n",
    "Compare your results to the average number of comments and points other posts receive.\n",
    "\n",
    "Done with Pandas"
   ]
  },
  {
   "cell_type": "markdown",
   "metadata": {},
   "source": [
    "### 3.points in average for Show HN and Ask HN post"
   ]
  },
  {
   "cell_type": "code",
   "execution_count": 32,
   "metadata": {},
   "outputs": [],
   "source": [
    "import pandas as pd"
   ]
  },
  {
   "cell_type": "code",
   "execution_count": 33,
   "metadata": {},
   "outputs": [],
   "source": [
    "df = pd.read_csv('HN_posts_year_to_Sep_26_2016.csv')"
   ]
  },
  {
   "cell_type": "code",
   "execution_count": 34,
   "metadata": {},
   "outputs": [
    {
     "data": {
      "text/plain": [
       "Index(['id', 'title', 'url', 'num_points', 'num_comments', 'author',\n",
       "       'created_at'],\n",
       "      dtype='object')"
      ]
     },
     "execution_count": 34,
     "metadata": {},
     "output_type": "execute_result"
    }
   ],
   "source": [
    "df.columns"
   ]
  },
  {
   "cell_type": "code",
   "execution_count": 35,
   "metadata": {},
   "outputs": [],
   "source": [
    "df['title']=df['title'].str.lower()"
   ]
  },
  {
   "cell_type": "code",
   "execution_count": 36,
   "metadata": {},
   "outputs": [],
   "source": [
    "#fix datetime \n",
    "df['created_at']=pd.to_datetime(df['created_at'],format='%m/%d/%Y %H:%M')"
   ]
  },
  {
   "cell_type": "code",
   "execution_count": 37,
   "metadata": {},
   "outputs": [],
   "source": [
    "#select all post starting with show \n",
    "df_show=df.loc[df['title'].str.startswith('show')].copy()"
   ]
  },
  {
   "cell_type": "code",
   "execution_count": 38,
   "metadata": {},
   "outputs": [
    {
     "data": {
      "text/plain": [
       "id                       int64\n",
       "title                   object\n",
       "url                     object\n",
       "num_points               int64\n",
       "num_comments             int64\n",
       "author                  object\n",
       "created_at      datetime64[ns]\n",
       "dtype: object"
      ]
     },
     "execution_count": 38,
     "metadata": {},
     "output_type": "execute_result"
    }
   ],
   "source": [
    "df_show.dtypes"
   ]
  },
  {
   "cell_type": "code",
   "execution_count": 39,
   "metadata": {},
   "outputs": [],
   "source": [
    "#select all posts starting with \"ask\"\n",
    "df_ask=df.loc[df['title'].str.startswith('ask')].copy()"
   ]
  },
  {
   "cell_type": "code",
   "execution_count": 40,
   "metadata": {},
   "outputs": [
    {
     "data": {
      "text/plain": [
       "14.787238207085535"
      ]
     },
     "execution_count": 40,
     "metadata": {},
     "output_type": "execute_result"
    }
   ],
   "source": [
    "#compute mean point for show HN posts\n",
    "df_show['num_points'].mean()"
   ]
  },
  {
   "cell_type": "code",
   "execution_count": 41,
   "metadata": {
    "scrolled": true
   },
   "outputs": [
    {
     "data": {
      "text/plain": [
       "11.257309310605244"
      ]
     },
     "execution_count": 41,
     "metadata": {},
     "output_type": "execute_result"
    }
   ],
   "source": [
    "#compute mean points for ask HN posts\n",
    "df_ask['num_points'].mean()"
   ]
  },
  {
   "cell_type": "markdown",
   "metadata": {},
   "source": [
    "**average points per hours**"
   ]
  },
  {
   "cell_type": "code",
   "execution_count": 68,
   "metadata": {},
   "outputs": [],
   "source": [
    "def points_per_hours(df):\n",
    "    #build a frequency table\n",
    "    posts_points_by_hour={}\n",
    "    for index, row in df.iterrows():\n",
    "        hour = row['created_at'].strftime('%H')\n",
    "        points=row['num_points']\n",
    "\n",
    "        if hour in posts_points_by_hour:\n",
    "            posts_points_by_hour[hour]=posts_points_by_hour[hour] + points\n",
    "        else:\n",
    "            posts_points_by_hour[hour]=points\n",
    "    #chronological frequency table\n",
    "    sorted_posts_points_by_hour={}\n",
    "    for hour in hours:\n",
    "        sorted_posts_points_by_hour[hour]=posts_points_by_hour[hour]\n",
    "\n",
    "    return sorted_posts_points_by_hour"
   ]
  },
  {
   "cell_type": "code",
   "execution_count": 70,
   "metadata": {},
   "outputs": [],
   "source": [
    "show_posts_points_per_hours=points_per_hours(df_show)\n",
    "ask_posts_points_per_hours=points_per_hours(df_ask)"
   ]
  },
  {
   "cell_type": "code",
   "execution_count": 130,
   "metadata": {},
   "outputs": [
    {
     "data": {
      "text/plain": [
       "<BarContainer object of 24 artists>"
      ]
     },
     "execution_count": 130,
     "metadata": {},
     "output_type": "execute_result"
    },
    {
     "data": {
      "image/png": "[encoded data removed]",
      "text/plain": [
       "<Figure size 576x432 with 1 Axes>"
      ]
     },
     "metadata": {
      "needs_background": "light"
     },
     "output_type": "display_data"
    }
   ],
   "source": [
    "plt.figure(figsize=(8,6))\n",
    "plt.bar(show_posts_points_per_hours.keys(), \n",
    "        show_posts_points_per_hours.values(),\n",
    "        color='brown',\n",
    "        #legend='show HN posts'\n",
    "       )"
   ]
  },
  {
   "cell_type": "code",
   "execution_count": 85,
   "metadata": {},
   "outputs": [
    {
     "data": {
      "text/plain": [
       "<BarContainer object of 24 artists>"
      ]
     },
     "execution_count": 85,
     "metadata": {},
     "output_type": "execute_result"
    },
    {
     "data": {
      "image/png": "[encoded data removed]",
      "text/plain": [
       "<Figure size 576x432 with 1 Axes>"
      ]
     },
     "metadata": {
      "needs_background": "light"
     },
     "output_type": "display_data"
    }
   ],
   "source": [
    "plt.figure(figsize=(8,6))\n",
    "plt.bar(ask_posts_points_per_hours.keys(),\n",
    "        ask_posts_points_per_hours.values())"
   ]
  },
  {
   "cell_type": "code",
   "execution_count": 137,
   "metadata": {},
   "outputs": [
    {
     "data": {
      "text/html": [
       "<div>\n",
       "<style scoped>\n",
       "    .dataframe tbody tr th:only-of-type {\n",
       "        vertical-align: middle;\n",
       "    }\n",
       "\n",
       "    .dataframe tbody tr th {\n",
       "        vertical-align: top;\n",
       "    }\n",
       "\n",
       "    .dataframe thead th {\n",
       "        text-align: right;\n",
       "    }\n",
       "</style>\n",
       "<table border=\"1\" class=\"dataframe\">\n",
       "  <thead>\n",
       "    <tr style=\"text-align: right;\">\n",
       "      <th></th>\n",
       "      <th>id</th>\n",
       "      <th>title</th>\n",
       "      <th>url</th>\n",
       "      <th>num_points</th>\n",
       "      <th>num_comments</th>\n",
       "      <th>author</th>\n",
       "      <th>created_at</th>\n",
       "      <th>hour</th>\n",
       "    </tr>\n",
       "  </thead>\n",
       "  <tbody>\n",
       "    <tr>\n",
       "      <th>count</th>\n",
       "      <td>2.931190e+05</td>\n",
       "      <td>293119</td>\n",
       "      <td>279256</td>\n",
       "      <td>293119.000000</td>\n",
       "      <td>293119.000000</td>\n",
       "      <td>293119</td>\n",
       "      <td>293119</td>\n",
       "      <td>293119</td>\n",
       "    </tr>\n",
       "    <tr>\n",
       "      <th>unique</th>\n",
       "      <td>NaN</td>\n",
       "      <td>267597</td>\n",
       "      <td>247602</td>\n",
       "      <td>NaN</td>\n",
       "      <td>NaN</td>\n",
       "      <td>51900</td>\n",
       "      <td>215563</td>\n",
       "      <td>24</td>\n",
       "    </tr>\n",
       "    <tr>\n",
       "      <th>top</th>\n",
       "      <td>NaN</td>\n",
       "      <td>employee benefits at basecamp</td>\n",
       "      <td>http://www.aioptify.com/topmldmbooks.php?utm_s...</td>\n",
       "      <td>NaN</td>\n",
       "      <td>NaN</td>\n",
       "      <td>jonbaer</td>\n",
       "      <td>2016-04-09 22:40:00</td>\n",
       "      <td>16</td>\n",
       "    </tr>\n",
       "    <tr>\n",
       "      <th>freq</th>\n",
       "      <td>NaN</td>\n",
       "      <td>16</td>\n",
       "      <td>22</td>\n",
       "      <td>NaN</td>\n",
       "      <td>NaN</td>\n",
       "      <td>2731</td>\n",
       "      <td>11</td>\n",
       "      <td>20170</td>\n",
       "    </tr>\n",
       "    <tr>\n",
       "      <th>first</th>\n",
       "      <td>NaN</td>\n",
       "      <td>NaN</td>\n",
       "      <td>NaN</td>\n",
       "      <td>NaN</td>\n",
       "      <td>NaN</td>\n",
       "      <td>NaN</td>\n",
       "      <td>2015-09-06 05:50:00</td>\n",
       "      <td>NaN</td>\n",
       "    </tr>\n",
       "    <tr>\n",
       "      <th>last</th>\n",
       "      <td>NaN</td>\n",
       "      <td>NaN</td>\n",
       "      <td>NaN</td>\n",
       "      <td>NaN</td>\n",
       "      <td>NaN</td>\n",
       "      <td>NaN</td>\n",
       "      <td>2016-09-26 03:26:00</td>\n",
       "      <td>NaN</td>\n",
       "    </tr>\n",
       "    <tr>\n",
       "      <th>mean</th>\n",
       "      <td>1.133046e+07</td>\n",
       "      <td>NaN</td>\n",
       "      <td>NaN</td>\n",
       "      <td>15.025324</td>\n",
       "      <td>6.525544</td>\n",
       "      <td>NaN</td>\n",
       "      <td>NaN</td>\n",
       "      <td>NaN</td>\n",
       "    </tr>\n",
       "    <tr>\n",
       "      <th>std</th>\n",
       "      <td>6.961055e+05</td>\n",
       "      <td>NaN</td>\n",
       "      <td>NaN</td>\n",
       "      <td>58.504103</td>\n",
       "      <td>30.376319</td>\n",
       "      <td>NaN</td>\n",
       "      <td>NaN</td>\n",
       "      <td>NaN</td>\n",
       "    </tr>\n",
       "    <tr>\n",
       "      <th>min</th>\n",
       "      <td>1.017690e+07</td>\n",
       "      <td>NaN</td>\n",
       "      <td>NaN</td>\n",
       "      <td>1.000000</td>\n",
       "      <td>0.000000</td>\n",
       "      <td>NaN</td>\n",
       "      <td>NaN</td>\n",
       "      <td>NaN</td>\n",
       "    </tr>\n",
       "    <tr>\n",
       "      <th>25%</th>\n",
       "      <td>1.071636e+07</td>\n",
       "      <td>NaN</td>\n",
       "      <td>NaN</td>\n",
       "      <td>1.000000</td>\n",
       "      <td>0.000000</td>\n",
       "      <td>NaN</td>\n",
       "      <td>NaN</td>\n",
       "      <td>NaN</td>\n",
       "    </tr>\n",
       "    <tr>\n",
       "      <th>50%</th>\n",
       "      <td>1.130303e+07</td>\n",
       "      <td>NaN</td>\n",
       "      <td>NaN</td>\n",
       "      <td>2.000000</td>\n",
       "      <td>0.000000</td>\n",
       "      <td>NaN</td>\n",
       "      <td>NaN</td>\n",
       "      <td>NaN</td>\n",
       "    </tr>\n",
       "    <tr>\n",
       "      <th>75%</th>\n",
       "      <td>1.193152e+07</td>\n",
       "      <td>NaN</td>\n",
       "      <td>NaN</td>\n",
       "      <td>4.000000</td>\n",
       "      <td>1.000000</td>\n",
       "      <td>NaN</td>\n",
       "      <td>NaN</td>\n",
       "      <td>NaN</td>\n",
       "    </tr>\n",
       "    <tr>\n",
       "      <th>max</th>\n",
       "      <td>1.257901e+07</td>\n",
       "      <td>NaN</td>\n",
       "      <td>NaN</td>\n",
       "      <td>5771.000000</td>\n",
       "      <td>2531.000000</td>\n",
       "      <td>NaN</td>\n",
       "      <td>NaN</td>\n",
       "      <td>NaN</td>\n",
       "    </tr>\n",
       "  </tbody>\n",
       "</table>\n",
       "</div>"
      ],
      "text/plain": [
       "                  id                          title  \\\n",
       "count   2.931190e+05                         293119   \n",
       "unique           NaN                         267597   \n",
       "top              NaN  employee benefits at basecamp   \n",
       "freq             NaN                             16   \n",
       "first            NaN                            NaN   \n",
       "last             NaN                            NaN   \n",
       "mean    1.133046e+07                            NaN   \n",
       "std     6.961055e+05                            NaN   \n",
       "min     1.017690e+07                            NaN   \n",
       "25%     1.071636e+07                            NaN   \n",
       "50%     1.130303e+07                            NaN   \n",
       "75%     1.193152e+07                            NaN   \n",
       "max     1.257901e+07                            NaN   \n",
       "\n",
       "                                                      url     num_points  \\\n",
       "count                                              279256  293119.000000   \n",
       "unique                                             247602            NaN   \n",
       "top     http://www.aioptify.com/topmldmbooks.php?utm_s...            NaN   \n",
       "freq                                                   22            NaN   \n",
       "first                                                 NaN            NaN   \n",
       "last                                                  NaN            NaN   \n",
       "mean                                                  NaN      15.025324   \n",
       "std                                                   NaN      58.504103   \n",
       "min                                                   NaN       1.000000   \n",
       "25%                                                   NaN       1.000000   \n",
       "50%                                                   NaN       2.000000   \n",
       "75%                                                   NaN       4.000000   \n",
       "max                                                   NaN    5771.000000   \n",
       "\n",
       "         num_comments   author           created_at    hour  \n",
       "count   293119.000000   293119               293119  293119  \n",
       "unique            NaN    51900               215563      24  \n",
       "top               NaN  jonbaer  2016-04-09 22:40:00      16  \n",
       "freq              NaN     2731                   11   20170  \n",
       "first             NaN      NaN  2015-09-06 05:50:00     NaN  \n",
       "last              NaN      NaN  2016-09-26 03:26:00     NaN  \n",
       "mean         6.525544      NaN                  NaN     NaN  \n",
       "std         30.376319      NaN                  NaN     NaN  \n",
       "min          0.000000      NaN                  NaN     NaN  \n",
       "25%          0.000000      NaN                  NaN     NaN  \n",
       "50%          0.000000      NaN                  NaN     NaN  \n",
       "75%          1.000000      NaN                  NaN     NaN  \n",
       "max       2531.000000      NaN                  NaN     NaN  "
      ]
     },
     "execution_count": 137,
     "metadata": {},
     "output_type": "execute_result"
    }
   ],
   "source": [
    "df.describe(include='all')"
   ]
  },
  {
   "cell_type": "code",
   "execution_count": null,
   "metadata": {},
   "outputs": [],
   "source": []
  }
 ],
 "metadata": {
  "kernelspec": {
   "display_name": "Python 3",
   "language": "python",
   "name": "python3"
  },
  "language_info": {
   "codemirror_mode": {
    "name": "ipython",
    "version": 3
   },
   "file_extension": ".py",
   "mimetype": "text/x-python",
   "name": "python",
   "nbconvert_exporter": "python",
   "pygments_lexer": "ipython3",
   "version": "3.7.6"
  }
 },
 "nbformat": 4,
 "nbformat_minor": 4
}
